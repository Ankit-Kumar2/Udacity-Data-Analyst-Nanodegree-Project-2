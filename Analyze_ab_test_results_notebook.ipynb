{
 "cells": [
  {
   "cell_type": "markdown",
   "metadata": {},
   "source": [
    "## Analyze A/B Test Results\n",
    "\n",
    "This project will assure you have mastered the subjects covered in the statistics lessons.  The hope is to have this project be as comprehensive of these topics as possible.  Good luck!\n",
    "\n",
    "## Table of Contents\n",
    "- [Introduction](#intro)\n",
    "- [Part I - Probability](#probability)\n",
    "- [Part II - A/B Test](#ab_test)\n",
    "- [Part III - Regression](#regression)\n",
    "\n",
    "\n",
    "<a id='intro'></a>\n",
    "### Introduction\n",
    "\n",
    "A/B tests are very commonly performed by data analysts and data scientists.  It is important that you get some practice working with the difficulties of these \n",
    "\n",
    "For this project, you will be working to understand the results of an A/B test run by an e-commerce website.  Your goal is to work through this notebook to help the company understand if they should implement the new page, keep the old page, or perhaps run the experiment longer to make their decision.\n",
    "\n",
    "**As you work through this notebook, follow along in the classroom and answer the corresponding quiz questions associated with each question.** The labels for each classroom concept are provided for each question.  This will assure you are on the right track as you work through the project, and you can feel more confident in your final submission meeting the criteria.  As a final check, assure you meet all the criteria on the [RUBRIC](https://review.udacity.com/#!/projects/37e27304-ad47-4eb0-a1ab-8c12f60e43d0/rubric).\n",
    "\n",
    "<a id='probability'></a>\n",
    "#### Part I - Probability\n",
    "\n",
    "To get started, let's import our libraries."
   ]
  },
  {
   "cell_type": "code",
   "execution_count": 2,
   "metadata": {},
   "outputs": [],
   "source": [
    "import pandas as pd\n",
    "import numpy as np\n",
    "import random\n",
    "import matplotlib.pyplot as plt\n",
    "%matplotlib inline\n",
    "#We are setting the seed to assure you get the same answers on quizzes as we set up\n",
    "random.seed(42)"
   ]
  },
  {
   "cell_type": "markdown",
   "metadata": {},
   "source": [
    "`1.` Now, read in the `ab_data.csv` data. Store it in `df`.  **Use your dataframe to answer the questions in Quiz 1 of the classroom.**\n",
    "\n",
    "a. Read in the dataset and take a look at the top few rows here:"
   ]
  },
  {
   "cell_type": "code",
   "execution_count": 3,
   "metadata": {},
   "outputs": [
    {
     "name": "stdout",
     "output_type": "stream",
     "text": [
      "   user_id timestamp      group landing_page  converted\n",
      "0   851104   11:48.6    control     old_page          0\n",
      "1   804228   01:45.2    control     old_page          0\n",
      "2   661590   55:06.2  treatment     new_page          0\n"
     ]
    }
   ],
   "source": [
    "df = pd.read_csv('ab_data.csv', sep='\\s*,\\s*',\n",
    "                           header=0, encoding='ascii', engine='python')\n",
    "print(df.head(n=3))\n"
   ]
  },
  {
   "cell_type": "markdown",
   "metadata": {},
   "source": [
    "b. Use the below cell to find the number of rows in the dataset."
   ]
  },
  {
   "cell_type": "code",
   "execution_count": 4,
   "metadata": {},
   "outputs": [
    {
     "name": "stdout",
     "output_type": "stream",
     "text": [
      "<bound method DataFrame.count of         user_id timestamp      group landing_page  converted\n",
      "0        851104   11:48.6    control     old_page          0\n",
      "1        804228   01:45.2    control     old_page          0\n",
      "2        661590   55:06.2  treatment     new_page          0\n",
      "3        853541   28:03.1  treatment     new_page          0\n",
      "4        864975   52:26.2    control     old_page          1\n",
      "5        936923   20:49.1    control     old_page          0\n",
      "6        679687   26:46.9  treatment     new_page          1\n",
      "7        719014   48:29.5    control     old_page          0\n",
      "8        817355   58:09.0  treatment     new_page          1\n",
      "9        839785   11:06.6  treatment     new_page          1\n",
      "10       929503   37:11.5  treatment     new_page          0\n",
      "11       834487   37:47.8  treatment     new_page          0\n",
      "12       803683   05:16.2  treatment     new_page          0\n",
      "13       944475   31:09.6  treatment     new_page          0\n",
      "14       718956   45:11.3  treatment     new_page          0\n",
      "15       644214   05:21.7    control     old_page          1\n",
      "16       847721   01:00.1    control     old_page          0\n",
      "17       888545   37:26.3  treatment     new_page          1\n",
      "18       650559   55:51.1    control     old_page          0\n",
      "19       935734   33:37.4    control     old_page          0\n",
      "20       740805   59:45.5  treatment     new_page          0\n",
      "21       759875   11:58.8  treatment     new_page          0\n",
      "22       767017   58:15.0    control     new_page          0\n",
      "23       793849   36:10.7  treatment     new_page          0\n",
      "24       905617   12:19.3  treatment     new_page          0\n",
      "25       746742   38:29.6    control     old_page          0\n",
      "26       892356   35:14.9  treatment     new_page          1\n",
      "27       773302   29:49.8  treatment     new_page          0\n",
      "28       913579   11:39.2    control     old_page          1\n",
      "29       736159   50:21.3  treatment     new_page          0\n",
      "...         ...       ...        ...          ...        ...\n",
      "294448   776137   53:12.4  treatment     new_page          0\n",
      "294449   883344   15:58.6  treatment     new_page          0\n",
      "294450   825594   37:08.9  treatment     new_page          0\n",
      "294451   875688   19:49.0    control     old_page          0\n",
      "294452   927527   52:11.1    control     old_page          0\n",
      "294453   789177   17:56.2    control     old_page          0\n",
      "294454   937338   23:22.2  treatment     new_page          0\n",
      "294455   733101   52:58.7  treatment     new_page          0\n",
      "294456   679096   43:49.2  treatment     new_page          0\n",
      "294457   691699   42:36.0  treatment     new_page          0\n",
      "294458   807595   43:09.3  treatment     new_page          0\n",
      "294459   924816   59:03.5    control     old_page          0\n",
      "294460   846225   24:46.7  treatment     new_page          0\n",
      "294461   740310   22:19.8    control     old_page          0\n",
      "294462   677163   41:51.9  treatment     new_page          0\n",
      "294463   832080   18:27.4    control     old_page          0\n",
      "294464   834362   51:56.1    control     old_page          0\n",
      "294465   925675   38:26.3  treatment     new_page          0\n",
      "294466   923948   33:41.1    control     old_page          0\n",
      "294467   857744   00:56.0    control     old_page          0\n",
      "294468   643562   20:05.5  treatment     new_page          0\n",
      "294469   755438   35:06.1    control     old_page          0\n",
      "294470   908354   42:21.2    control     old_page          0\n",
      "294471   718310   44:20.4    control     old_page          0\n",
      "294472   822004   36:46.1  treatment     new_page          0\n",
      "294473   751197   28:38.6    control     old_page          0\n",
      "294474   945152   51:57.1    control     old_page          0\n",
      "294475   734608   45:03.4    control     old_page          0\n",
      "294476   697314   20:29.0    control     old_page          0\n",
      "294477   715931   40:24.5  treatment     new_page          0\n",
      "\n",
      "[294478 rows x 5 columns]>\n"
     ]
    }
   ],
   "source": [
    "cnt=df.count\n",
    "print(cnt)"
   ]
  },
  {
   "cell_type": "markdown",
   "metadata": {},
   "source": [
    "c. The number of unique users in the dataset."
   ]
  },
  {
   "cell_type": "code",
   "execution_count": 5,
   "metadata": {},
   "outputs": [
    {
     "data": {
      "text/plain": [
       "290584"
      ]
     },
     "execution_count": 5,
     "metadata": {},
     "output_type": "execute_result"
    }
   ],
   "source": [
    "len(df['user_id'].unique().tolist())"
   ]
  },
  {
   "cell_type": "markdown",
   "metadata": {
    "collapsed": true
   },
   "source": [
    "d. The proportion of users converted."
   ]
  },
  {
   "cell_type": "code",
   "execution_count": 76,
   "metadata": {},
   "outputs": [
    {
     "name": "stdout",
     "output_type": "stream",
     "text": [
      "0\n"
     ]
    }
   ],
   "source": [
    "converted = df.query('converted == \"1\"').user_id.nunique()/df.user_id.nunique()\n",
    "print(converted*100)\n",
    "\n",
    "\n",
    "#total = \n",
    "#converted_perc = (converted/total)*100\n",
    "#converted_perc\n",
    "#x = df['converted'].value_counts()\n",
    "#x\n",
    "#x0 = x[0]\n",
    "#x0\n",
    "#x1 = x[1]\n",
    "#x1\n",
    "#converted =((x[1])/(x[0]+x[1]))*100\n",
    "#converted"
   ]
  },
  {
   "cell_type": "code",
   "execution_count": 77,
   "metadata": {},
   "outputs": [
    {
     "data": {
      "text/plain": [
       "35237"
      ]
     },
     "execution_count": 77,
     "metadata": {},
     "output_type": "execute_result"
    }
   ],
   "source": [
    "len(df[df['converted'] == 1]) "
   ]
  },
  {
   "cell_type": "markdown",
   "metadata": {
    "collapsed": true
   },
   "source": [
    "e. The number of times the `new_page` and `treatment` don't line up."
   ]
  },
  {
   "cell_type": "code",
   "execution_count": 78,
   "metadata": {},
   "outputs": [
    {
     "data": {
      "text/plain": [
       "user_id         149167\n",
       "timestamp       149167\n",
       "group           149167\n",
       "landing_page    149167\n",
       "converted       149167\n",
       "dtype: int64"
      ]
     },
     "execution_count": 78,
     "metadata": {},
     "output_type": "execute_result"
    }
   ],
   "source": [
    "df_3 = df.query('landing_page == \"old_page\"').count() \n",
    "\n",
    "cond_2 = df[(df['group']==\"control\") & (df['landing_page']==\"new_page\")]\n",
    "ans = df_3 + cond_2.count()\n",
    "ans"
   ]
  },
  {
   "cell_type": "markdown",
   "metadata": {},
   "source": [
    "f. Do any of the rows have missing values?"
   ]
  },
  {
   "cell_type": "code",
   "execution_count": 79,
   "metadata": {},
   "outputs": [
    {
     "data": {
      "text/plain": [
       "False"
      ]
     },
     "execution_count": 79,
     "metadata": {},
     "output_type": "execute_result"
    }
   ],
   "source": [
    "df.isnull().values.any()\n"
   ]
  },
  {
   "cell_type": "markdown",
   "metadata": {},
   "source": [
    "`2.` For the rows where **treatment** is not aligned with **new_page** or **control** is not aligned with **old_page**, we cannot be sure if this row truly received the new or old page.  Use **Quiz 2** in the classroom to provide how we should handle these rows.  \n",
    "\n",
    "a. Now use the answer to the quiz to create a new dataset that meets the specifications from the quiz.  Store your new dataframe in **df2**."
   ]
  },
  {
   "cell_type": "code",
   "execution_count": 80,
   "metadata": {},
   "outputs": [
    {
     "data": {
      "text/plain": [
       "user_id         290585\n",
       "timestamp       290585\n",
       "group           290585\n",
       "landing_page    290585\n",
       "converted       290585\n",
       "dtype: int64"
      ]
     },
     "execution_count": 80,
     "metadata": {},
     "output_type": "execute_result"
    }
   ],
   "source": [
    "df3 = df[((df['group'] == 'treatment') & (df['landing_page'] == 'new_page'))]\n",
    "df4 = df[((df['group'] == 'control') & (df['landing_page'] == 'old_page'))]\n",
    "df2 = df3.append([df4])\n",
    "df2.count()"
   ]
  },
  {
   "cell_type": "code",
   "execution_count": 81,
   "metadata": {},
   "outputs": [
    {
     "data": {
      "text/plain": [
       "0"
      ]
     },
     "execution_count": 81,
     "metadata": {},
     "output_type": "execute_result"
    }
   ],
   "source": [
    "# Double Check all of the correct rows were removed - this should be 0\n",
    "df2[((df2['group'] == 'treatment') == (df2['landing_page'] == 'new_page')) == False].shape[0]"
   ]
  },
  {
   "cell_type": "markdown",
   "metadata": {},
   "source": [
    "`3.` Use **df2** and the cells below to answer questions for **Quiz3** in the classroom."
   ]
  },
  {
   "cell_type": "markdown",
   "metadata": {},
   "source": [
    "a. How many unique **user_id**s are in **df2**?"
   ]
  },
  {
   "cell_type": "code",
   "execution_count": 82,
   "metadata": {},
   "outputs": [
    {
     "data": {
      "text/plain": [
       "290584"
      ]
     },
     "execution_count": 82,
     "metadata": {},
     "output_type": "execute_result"
    }
   ],
   "source": [
    "len(df2['user_id'].unique().tolist())"
   ]
  },
  {
   "cell_type": "markdown",
   "metadata": {
    "collapsed": true
   },
   "source": [
    "b. There is one **user_id** repeated in **df2**.  What is it?"
   ]
  },
  {
   "cell_type": "code",
   "execution_count": 83,
   "metadata": {},
   "outputs": [
    {
     "data": {
      "text/html": [
       "<div>\n",
       "<style scoped>\n",
       "    .dataframe tbody tr th:only-of-type {\n",
       "        vertical-align: middle;\n",
       "    }\n",
       "\n",
       "    .dataframe tbody tr th {\n",
       "        vertical-align: top;\n",
       "    }\n",
       "\n",
       "    .dataframe thead th {\n",
       "        text-align: right;\n",
       "    }\n",
       "</style>\n",
       "<table border=\"1\" class=\"dataframe\">\n",
       "  <thead>\n",
       "    <tr style=\"text-align: right;\">\n",
       "      <th></th>\n",
       "      <th>user_id</th>\n",
       "      <th>timestamp</th>\n",
       "      <th>group</th>\n",
       "      <th>landing_page</th>\n",
       "      <th>converted</th>\n",
       "    </tr>\n",
       "  </thead>\n",
       "  <tbody>\n",
       "    <tr>\n",
       "      <th>1899</th>\n",
       "      <td>773192</td>\n",
       "      <td>37:58.8</td>\n",
       "      <td>treatment</td>\n",
       "      <td>new_page</td>\n",
       "      <td>0</td>\n",
       "    </tr>\n",
       "    <tr>\n",
       "      <th>2893</th>\n",
       "      <td>773192</td>\n",
       "      <td>55:59.6</td>\n",
       "      <td>treatment</td>\n",
       "      <td>new_page</td>\n",
       "      <td>0</td>\n",
       "    </tr>\n",
       "  </tbody>\n",
       "</table>\n",
       "</div>"
      ],
      "text/plain": [
       "      user_id timestamp      group landing_page  converted\n",
       "1899   773192   37:58.8  treatment     new_page          0\n",
       "2893   773192   55:59.6  treatment     new_page          0"
      ]
     },
     "execution_count": 83,
     "metadata": {},
     "output_type": "execute_result"
    }
   ],
   "source": [
    "df2_duplicated = df2[df2.duplicated(['user_id'], keep=False)]\n",
    "df2_duplicated"
   ]
  },
  {
   "cell_type": "markdown",
   "metadata": {},
   "source": [
    "c. What is the row information for the repeat **user_id**? "
   ]
  },
  {
   "cell_type": "code",
   "execution_count": 84,
   "metadata": {},
   "outputs": [
    {
     "data": {
      "text/html": [
       "<div>\n",
       "<style scoped>\n",
       "    .dataframe tbody tr th:only-of-type {\n",
       "        vertical-align: middle;\n",
       "    }\n",
       "\n",
       "    .dataframe tbody tr th {\n",
       "        vertical-align: top;\n",
       "    }\n",
       "\n",
       "    .dataframe thead th {\n",
       "        text-align: right;\n",
       "    }\n",
       "</style>\n",
       "<table border=\"1\" class=\"dataframe\">\n",
       "  <thead>\n",
       "    <tr style=\"text-align: right;\">\n",
       "      <th></th>\n",
       "      <th>user_id</th>\n",
       "      <th>timestamp</th>\n",
       "      <th>group</th>\n",
       "      <th>landing_page</th>\n",
       "      <th>converted</th>\n",
       "    </tr>\n",
       "  </thead>\n",
       "  <tbody>\n",
       "    <tr>\n",
       "      <th>1899</th>\n",
       "      <td>773192</td>\n",
       "      <td>37:58.8</td>\n",
       "      <td>treatment</td>\n",
       "      <td>new_page</td>\n",
       "      <td>0</td>\n",
       "    </tr>\n",
       "    <tr>\n",
       "      <th>2893</th>\n",
       "      <td>773192</td>\n",
       "      <td>55:59.6</td>\n",
       "      <td>treatment</td>\n",
       "      <td>new_page</td>\n",
       "      <td>0</td>\n",
       "    </tr>\n",
       "  </tbody>\n",
       "</table>\n",
       "</div>"
      ],
      "text/plain": [
       "      user_id timestamp      group landing_page  converted\n",
       "1899   773192   37:58.8  treatment     new_page          0\n",
       "2893   773192   55:59.6  treatment     new_page          0"
      ]
     },
     "execution_count": 84,
     "metadata": {},
     "output_type": "execute_result"
    }
   ],
   "source": [
    "df2_duplicated = df2[df2.duplicated(['user_id'], keep=False)]\n",
    "df2_duplicated"
   ]
  },
  {
   "cell_type": "markdown",
   "metadata": {},
   "source": [
    "d. Remove **one** of the rows with a duplicate **user_id**, but keep your dataframe as **df2**."
   ]
  },
  {
   "cell_type": "code",
   "execution_count": 85,
   "metadata": {},
   "outputs": [
    {
     "data": {
      "text/plain": [
       "user_id         290584\n",
       "timestamp       290584\n",
       "group           290584\n",
       "landing_page    290584\n",
       "converted       290584\n",
       "dtype: int64"
      ]
     },
     "execution_count": 85,
     "metadata": {},
     "output_type": "execute_result"
    }
   ],
   "source": [
    "df2.drop_duplicates(subset=['user_id'], keep='first', inplace=True)\n",
    "df2.count()"
   ]
  },
  {
   "cell_type": "markdown",
   "metadata": {},
   "source": [
    "`4.` Use **df2** in the below cells to answer the quiz questions related to **Quiz 4** in the classroom.\n",
    "\n",
    "a. What is the probability of an individual converting regardless of the page they receive?"
   ]
  },
  {
   "cell_type": "code",
   "execution_count": 86,
   "metadata": {},
   "outputs": [
    {
     "data": {
      "text/plain": [
       "user_id         0.119597\n",
       "timestamp       0.119597\n",
       "group           0.119597\n",
       "landing_page    0.119597\n",
       "converted       0.119597\n",
       "dtype: float64"
      ]
     },
     "execution_count": 86,
     "metadata": {},
     "output_type": "execute_result"
    }
   ],
   "source": [
    "df_convert = df2.query('converted == \"1\"').count() \n",
    "df_convert\n",
    "\n",
    "df_total = df2.count()\n",
    "df_total\n",
    "\n",
    "df_prob1 = df_convert/df_total\n",
    "df_prob1"
   ]
  },
  {
   "cell_type": "markdown",
   "metadata": {},
   "source": [
    "b. Given that an individual was in the `control` group, what is the probability they converted?"
   ]
  },
  {
   "cell_type": "code",
   "execution_count": 87,
   "metadata": {},
   "outputs": [
    {
     "data": {
      "text/plain": [
       "user_id         0.120386\n",
       "timestamp       0.120386\n",
       "group           0.120386\n",
       "landing_page    0.120386\n",
       "converted       0.120386\n",
       "dtype: float64"
      ]
     },
     "execution_count": 87,
     "metadata": {},
     "output_type": "execute_result"
    }
   ],
   "source": [
    "df_control = df2.query('group == \"control\"').count() \n",
    "df_control\n",
    "\n",
    "df_control_convert = df2[((df2['group'] == 'control') & (df2['converted'] == 1))]\n",
    "df_control_convert_2 = df_control_convert.count()\n",
    "\n",
    "df_prob2 = df_control_convert_2/df_control\n",
    "df_prob2"
   ]
  },
  {
   "cell_type": "markdown",
   "metadata": {},
   "source": [
    "c. Given that an individual was in the `treatment` group, what is the probability they converted?"
   ]
  },
  {
   "cell_type": "code",
   "execution_count": 88,
   "metadata": {},
   "outputs": [
    {
     "data": {
      "text/plain": [
       "user_id         0.118808\n",
       "timestamp       0.118808\n",
       "group           0.118808\n",
       "landing_page    0.118808\n",
       "converted       0.118808\n",
       "dtype: float64"
      ]
     },
     "execution_count": 88,
     "metadata": {},
     "output_type": "execute_result"
    }
   ],
   "source": [
    "df_treatment = df2.query('group == \"treatment\"').count() \n",
    "df_treatment\n",
    "\n",
    "df_treatment_convert = df2[((df2['group'] == 'treatment') & (df2['converted'] == 1))]\n",
    "df_treatment_convert_2 = df_treatment_convert.count()\n",
    "\n",
    "df_prob3 = df_treatment_convert_2/df_treatment\n",
    "df_prob3"
   ]
  },
  {
   "cell_type": "markdown",
   "metadata": {},
   "source": [
    "d. What is the probability that an individual received the new page?"
   ]
  },
  {
   "cell_type": "code",
   "execution_count": 89,
   "metadata": {},
   "outputs": [
    {
     "data": {
      "text/plain": [
       "user_id         0.500062\n",
       "timestamp       0.500062\n",
       "group           0.500062\n",
       "landing_page    0.500062\n",
       "converted       0.500062\n",
       "dtype: float64"
      ]
     },
     "execution_count": 89,
     "metadata": {},
     "output_type": "execute_result"
    }
   ],
   "source": [
    "df_newpage = df2.query('landing_page == \"new_page\"').count() \n",
    "df_newpage\n",
    "\n",
    "df_total = df2.count()\n",
    "df_total\n",
    "\n",
    "df_prob4 = df_newpage/df_total\n",
    "df_prob4\n"
   ]
  },
  {
   "cell_type": "markdown",
   "metadata": {},
   "source": [
    "e. Consider your results from a. through d. above, and explain below whether you think there is sufficient evidence to say that the new treatment page leads to more conversions."
   ]
  },
  {
   "cell_type": "markdown",
   "metadata": {},
   "source": [
    "**The conversion rate for treatment group is 11.88% and for\n",
    "the control group is 12.03%, the difference is too less to arrive at the conclusion that new tretment leads to more conversions**"
   ]
  },
  {
   "cell_type": "markdown",
   "metadata": {},
   "source": [
    "<a id='ab_test'></a>\n",
    "### Part II - A/B Test\n",
    "\n",
    "Notice that because of the time stamp associated with each event, you could technically run a hypothesis test continuously as each observation was observed.  \n",
    "\n",
    "However, then the hard question is do you stop as soon as one page is considered significantly better than another or does it need to happen consistently for a certain amount of time?  How long do you run to render a decision that neither page is better than another?  \n",
    "\n",
    "These questions are the difficult parts associated with A/B tests in general.  \n",
    "\n",
    "\n",
    "`1.` For now, consider you need to make the decision just based on all the data provided.  If you want to assume that the old page is better unless the new page proves to be definitely better at a Type I error rate of 5%, what should your null and alternative hypotheses be?  You can state your hypothesis in terms of words or in terms of **$p_{old}$** and **$p_{new}$**, which are the converted rates for the old and new pages."
   ]
  },
  {
   "cell_type": "markdown",
   "metadata": {},
   "source": [
    "**Out of 100 days of analysis, p_old>p_new for 95 days**"
   ]
  },
  {
   "cell_type": "markdown",
   "metadata": {},
   "source": [
    "`2.` Assume under the null hypothesis, $p_{new}$ and $p_{old}$ both have \"true\" success rates equal to the **converted** success rate regardless of page - that is $p_{new}$ and $p_{old}$ are equal. Furthermore, assume they are equal to the **converted** rate in **ab_data.csv** regardless of the page. <br><br>\n",
    "\n",
    "Use a sample size for each page equal to the ones in **ab_data.csv**.  <br><br>\n",
    "\n",
    "Perform the sampling distribution for the difference in **converted** between the two pages over 10,000 iterations of calculating an estimate from the null.  <br><br>\n",
    "\n",
    "Use the cells below to provide the necessary parts of this simulation.  If this doesn't make complete sense right now, don't worry - you are going to work through the problems below to complete this problem.  You can use **Quiz 5** in the classroom to make sure you are on the right track.<br><br>"
   ]
  },
  {
   "cell_type": "markdown",
   "metadata": {},
   "source": [
    "a. What is the **convert rate** for $p_{new}$ under the null? "
   ]
  },
  {
   "cell_type": "code",
   "execution_count": 20,
   "metadata": {},
   "outputs": [
    {
     "data": {
      "text/plain": [
       "0.11880806551510564"
      ]
     },
     "execution_count": 20,
     "metadata": {},
     "output_type": "execute_result"
    },
    {
     "data": {
      "image/png": "[encoded data removed]",
      "text/plain": [
       "<Figure size 432x288 with 1 Axes>"
      ]
     },
     "metadata": {
      "needs_background": "light"
     },
     "output_type": "display_data"
    }
   ],
   "source": [
    "df_new = df2.query('landing_page == \"new_page\"')\n",
    "sample_df_new = df_new.sample(150)\n",
    "\n",
    "means = [] \n",
    "for _ in range(10000): \n",
    "    bootsample = df_new.sample(150, replace = True)\n",
    "    means.append(bootsample.converted.mean())\n",
    "\n",
    "np.std(means)\n",
    "null_vals = np.random.normal(0,np.std(means),10000)\n",
    "plt.hist(means)\n",
    "plt.hist(null_vals);\n",
    "#(means-null_vals).mean()\n",
    "df_new.converted.mean()"
   ]
  },
  {
   "cell_type": "markdown",
   "metadata": {},
   "source": [
    "b. What is the **convert rate** for $p_{old}$ under the null? <br><br>"
   ]
  },
  {
   "cell_type": "code",
   "execution_count": 90,
   "metadata": {},
   "outputs": [
    {
     "data": {
      "text/plain": [
       "0.1203863045004612"
      ]
     },
     "execution_count": 90,
     "metadata": {},
     "output_type": "execute_result"
    },
    {
     "data": {
      "image/png": "[encoded data removed]",
      "text/plain": [
       "<Figure size 432x288 with 1 Axes>"
      ]
     },
     "metadata": {
      "needs_background": "light"
     },
     "output_type": "display_data"
    }
   ],
   "source": [
    "df_old = df2.query('landing_page == \"old_page\"')\n",
    "sample_df_new = df_new.sample(150)\n",
    "\n",
    "means = [] \n",
    "for _ in range(10000): \n",
    "    bootsample = df_new.sample(150, replace = True)\n",
    "    means.append(bootsample.converted.mean())\n",
    "\n",
    "np.std(means)\n",
    "null_vals = np.random.normal(0,np.std(means),10000)\n",
    "plt.hist(null_vals);\n",
    "plt.hist(means);\n",
    "df_old.converted.mean()"
   ]
  },
  {
   "cell_type": "markdown",
   "metadata": {},
   "source": [
    "c. What is $n_{new}$?"
   ]
  },
  {
   "cell_type": "code",
   "execution_count": 43,
   "metadata": {},
   "outputs": [],
   "source": [
    "n_new = df2.query('landing_page == \"new_page\"')"
   ]
  },
  {
   "cell_type": "markdown",
   "metadata": {},
   "source": [
    "d. What is $n_{old}$?"
   ]
  },
  {
   "cell_type": "code",
   "execution_count": 44,
   "metadata": {},
   "outputs": [],
   "source": [
    "n_old = df2.query('landing_page == \"old_page\"')"
   ]
  },
  {
   "cell_type": "markdown",
   "metadata": {},
   "source": [
    "e. Simulate $n_{new}$ transactions with a convert rate of $p_{new}$ under the null.  Store these $n_{new}$ 1's and 0's in **new_page_converted**."
   ]
  },
  {
   "cell_type": "code",
   "execution_count": 91,
   "metadata": {},
   "outputs": [
    {
     "data": {
      "text/plain": [
       "0.11880806551510564"
      ]
     },
     "execution_count": 91,
     "metadata": {},
     "output_type": "execute_result"
    },
    {
     "data": {
      "image/png": "[encoded data removed]",
      "text/plain": [
       "<Figure size 432x288 with 1 Axes>"
      ]
     },
     "metadata": {
      "needs_background": "light"
     },
     "output_type": "display_data"
    }
   ],
   "source": [
    "new_page_converted = df2.query('landing_page == \"new_page\"')\n",
    "sample_df_new = new_page_converted.sample(150)\n",
    "\n",
    "means = [] \n",
    "for _ in range(10000): \n",
    "    bootsample = new_page_converted.sample(150, replace = True)\n",
    "    means.append(bootsample.converted.mean())\n",
    "\n",
    "np.std(means)\n",
    "#null_vals = np.random.normal(0,np.std(means),10000)\n",
    "#plt.hist(null_vals);\n",
    "plt.hist(means)\n",
    "new_page_converted.converted.mean()"
   ]
  },
  {
   "cell_type": "markdown",
   "metadata": {},
   "source": [
    "f. Simulate $n_{old}$ transactions with a convert rate of $p_{old}$ under the null.  Store these $n_{old}$ 1's and 0's in **old_page_converted**."
   ]
  },
  {
   "cell_type": "code",
   "execution_count": 92,
   "metadata": {},
   "outputs": [
    {
     "data": {
      "text/plain": [
       "0.1203863045004612"
      ]
     },
     "execution_count": 92,
     "metadata": {},
     "output_type": "execute_result"
    },
    {
     "data": {
      "image/png": "[encoded data removed]",
      "text/plain": [
       "<Figure size 432x288 with 1 Axes>"
      ]
     },
     "metadata": {
      "needs_background": "light"
     },
     "output_type": "display_data"
    }
   ],
   "source": [
    "n_old = df2.query('landing_page == \"old_page\"')\n",
    "old_page_converted = n_old\n",
    "\n",
    "sample_df_new = old_page_converted.sample(150)\n",
    "\n",
    "means = [] \n",
    "for _ in range(10000): \n",
    "    bootsample = old_page_converted.sample(150, replace = True)\n",
    "    means.append(bootsample.converted.mean())\n",
    "\n",
    "np.std(means)\n",
    "#null_vals = np.random.normal(0,np.std(means),10000)\n",
    "plt.hist(means);\n",
    "old_page_converted.converted.mean()"
   ]
  },
  {
   "cell_type": "markdown",
   "metadata": {},
   "source": [
    "g. Find $p_{new}$ - $p_{old}$ for your simulated values from part (e) and (f)."
   ]
  },
  {
   "cell_type": "code",
   "execution_count": 94,
   "metadata": {},
   "outputs": [
    {
     "data": {
      "text/plain": [
       "0.0015782389853555567"
      ]
     },
     "execution_count": 94,
     "metadata": {},
     "output_type": "execute_result"
    }
   ],
   "source": [
    "diff = old_page_converted.converted.mean() - new_page_converted.converted.mean()\n",
    "diff"
   ]
  },
  {
   "cell_type": "markdown",
   "metadata": {},
   "source": [
    "h. Simulate 10,000 $p_{new}$ - $p_{old}$ values using this same process similarly to the one you calculated in parts **a. through g.** above.  Store all 10,000 values in a numpy array called **p_diffs**."
   ]
  },
  {
   "cell_type": "code",
   "execution_count": 95,
   "metadata": {},
   "outputs": [
    {
     "data": {
      "text/plain": [
       "[-0.009957325746799417,\n",
       " 0.003956122999460535,\n",
       " -0.09642857142857143,\n",
       " 0.015647226173541973,\n",
       " 0.03098290598290597,\n",
       " -0.06280193236714976,\n",
       " 0.005159224337306534,\n",
       " 0.022759601706970112,\n",
       " -0.04616210413311864,\n",
       " -0.06314024958092754,\n",
       " 0.01671511627906977,\n",
       " 0.04302987197724041,\n",
       " -0.02991452991452992,\n",
       " 0.07139023081052065,\n",
       " -0.0028694404591104727,\n",
       " -0.019391567336772803,\n",
       " 0.020281088774239453,\n",
       " -0.04072398190045248,\n",
       " -0.046394533357309836,\n",
       " 0.0886752136752137,\n",
       " 0.03530041005526831,\n",
       " 0.05223747548582636,\n",
       " -0.1,\n",
       " 0.10256410256410256,\n",
       " -0.030227596017069716,\n",
       " 0.0440150295222759,\n",
       " -0.06428571428571428,\n",
       " -0.10648148148148148,\n",
       " -0.03311965811965813,\n",
       " -0.04369717676676857,\n",
       " 0.026785714285714288,\n",
       " 0.045940170940170943,\n",
       " 0.04963529621063867,\n",
       " 0.07577108218933856,\n",
       " -0.019420967451897142,\n",
       " 0.07139023081052065,\n",
       " 0.0026838432635534204,\n",
       " 0.05610859728506788,\n",
       " 0.016071428571428556,\n",
       " 0.05916202121920518,\n",
       " -0.09001956947162426,\n",
       " -0.046255114748265436,\n",
       " 0.04892367906066536,\n",
       " -0.11785714285714285,\n",
       " -0.042857142857142844,\n",
       " -0.07467532467532469,\n",
       " 0.01961133891959351,\n",
       " -0.03092968890487323,\n",
       " 0.012669683257918563,\n",
       " 0.002136752136752129,\n",
       " -0.05131964809384164,\n",
       " 0.0438034188034188,\n",
       " -0.0854978354978355,\n",
       " -0.031666963173812485,\n",
       " -0.013224064071521699,\n",
       " -0.02147074610842728,\n",
       " -0.026666666666666672,\n",
       " 0.0,\n",
       " 0.07353730542136339,\n",
       " 0.05049786628733996,\n",
       " 0.023809523809523808,\n",
       " -0.026709401709401698,\n",
       " -0.0854978354978355,\n",
       " 0.018398268398268414,\n",
       " 0.027914614121510667,\n",
       " 0.016499282639885232,\n",
       " 0.039999999999999994,\n",
       " 0.13311688311688313,\n",
       " -0.09464285714285714,\n",
       " -0.01964285714285713,\n",
       " 0.02147074610842728,\n",
       " 0.021346469622331693,\n",
       " 0.04750044476071873,\n",
       " -0.033801814623732426,\n",
       " 0.04160739687055477,\n",
       " 0.01654509873687955,\n",
       " 0.0,\n",
       " -0.004273504273504286,\n",
       " 0.10714922446068818,\n",
       " -0.014069264069264079,\n",
       " 0.06071428571428571,\n",
       " -0.06330014224751065,\n",
       " 0.036226685796269725,\n",
       " -0.014262791941522551,\n",
       " -0.07485465116279069,\n",
       " 0.005367686527106813,\n",
       " -0.12321428571428572,\n",
       " 0.017263082179464123,\n",
       " -0.05662393162393163,\n",
       " -0.04338549075391182,\n",
       " 0.021428571428571436,\n",
       " -0.02991452991452992,\n",
       " -0.009164222873900285,\n",
       " 0.04886877828054299,\n",
       " 0.003246753246753248,\n",
       " 0.08559611580650962,\n",
       " -0.053333333333333344,\n",
       " -0.022642182207167044,\n",
       " -0.022949653086639377,\n",
       " -0.0038314176245210774,\n",
       " -0.03888888888888889,\n",
       " 0.02382645803698434,\n",
       " -0.09449099661258692,\n",
       " -0.03214285714285714,\n",
       " 0.022403982930298716,\n",
       " -0.041071428571428564,\n",
       " -0.0464173881009394,\n",
       " 0.03393541324575808,\n",
       " -0.013333333333333336,\n",
       " -0.003956122999460535,\n",
       " 0.01709401709401709,\n",
       " -0.0438034188034188,\n",
       " 0.033801814623732426,\n",
       " -0.040648957033339275,\n",
       " -0.005367686527106813,\n",
       " -0.016714082503556202,\n",
       " 0.08432663227183775,\n",
       " 0.026819923371647514,\n",
       " 0.039999999999999994,\n",
       " 0.025894623269196185,\n",
       " -0.047678349048212054,\n",
       " 0.038314176245210746,\n",
       " 0.003911806543385493,\n",
       " 0.12000000000000001,\n",
       " -0.07264957264957264,\n",
       " -0.006582458637253152,\n",
       " -0.03469133606119908,\n",
       " -0.005692937199786502,\n",
       " 0.03152492668621702,\n",
       " 0.03469133606119908,\n",
       " 0.05049786628733996,\n",
       " 0.04178779069767441,\n",
       " -0.013906222142984495,\n",
       " -0.10393814062219026,\n",
       " -0.048701298701298704,\n",
       " 0.007131395970761276,\n",
       " -0.07122093023255814,\n",
       " 0.0440150295222759,\n",
       " -0.04652435686918445,\n",
       " 0.05248868778280544,\n",
       " -0.02241594022415941,\n",
       " 0.016025641025641024,\n",
       " 0.010249955044056819,\n",
       " 0.04297788167595758,\n",
       " -0.037339971550497855,\n",
       " 0.03418803418803418,\n",
       " 0.04207523622749154,\n",
       " 0.006493506493506496,\n",
       " 0.0722140762463343,\n",
       " 0.08928571428571427,\n",
       " 0.03479196556671449,\n",
       " -0.0527859237536657,\n",
       " 0.0381105743424584,\n",
       " 0.08521615370930441,\n",
       " -0.018099547511312222,\n",
       " 0.03794281604028052,\n",
       " -0.021215903013014792,\n",
       " -0.05341880341880342,\n",
       " 0.015029522275899099,\n",
       " 0.0843287573542521,\n",
       " 0.10419630156472262,\n",
       " 0.008547008547008544,\n",
       " 0.0017857142857142794,\n",
       " 0.10104963529621064,\n",
       " -0.008928571428571452,\n",
       " 0.047058823529411764,\n",
       " -0.05790325481028594,\n",
       " 0.04207523622749154,\n",
       " -0.006334841628959281,\n",
       " -0.10581061692969869,\n",
       " -0.046255114748265436,\n",
       " 0.04907539118065432,\n",
       " 0.045543497598292126,\n",
       " 0.05308464849354377,\n",
       " -0.05448717948717949,\n",
       " -0.07799145299145299,\n",
       " 0.12266001069709395,\n",
       " -0.010668563300142236,\n",
       " -0.11814421866570762,\n",
       " 0.07251082251082251,\n",
       " -0.0551948051948052,\n",
       " 0.06169296987087518,\n",
       " -0.030955346023839175,\n",
       " -0.027375201288244777,\n",
       " 0.01809954751131221,\n",
       " -0.011024182076813646,\n",
       " 0.15351583467525498,\n",
       " 0.05892857142857143,\n",
       " -0.01357466063348417,\n",
       " 0.024572649572649596,\n",
       " -0.0037359900373599153,\n",
       " -0.06774826172223213,\n",
       " -0.06785714285714285,\n",
       " 0.019323671497584544,\n",
       " -0.005870841487279843,\n",
       " -0.06779356230893724,\n",
       " -0.03392857142857142,\n",
       " -0.05559593023255814,\n",
       " -0.013333333333333336,\n",
       " 0.020281088774239453,\n",
       " -0.02418207681365575,\n",
       " 0.030955346023839175,\n",
       " 0.01709401709401709,\n",
       " -0.015566290928609783,\n",
       " 0.006977992485238865,\n",
       " 0.020281088774239453,\n",
       " 0.046255114748265436,\n",
       " 0.0035561877667140973,\n",
       " 0.027777777777777762,\n",
       " -0.06964285714285715,\n",
       " 0.045940170940170943,\n",
       " 0.022007514761137936,\n",
       " -0.08,\n",
       " -0.09698698520235335,\n",
       " -0.026785714285714288,\n",
       " -0.03246753246753248,\n",
       " 0.005341880341880337,\n",
       " 0.06515837104072397,\n",
       " 0.009601706970128021,\n",
       " 0.05223747548582636,\n",
       " 0.029417008379390264,\n",
       " 0.02382645803698434,\n",
       " -0.020299145299145296,\n",
       " 0.00472383720930232,\n",
       " 0.03220611916264089,\n",
       " 0.00542986425339366,\n",
       " -0.013333333333333336,\n",
       " 0.016420361247947435,\n",
       " 0.05448717948717949,\n",
       " 0.015029522275899099,\n",
       " 0.03479196556671449,\n",
       " -0.04207523622749154,\n",
       " -0.0295222758990875,\n",
       " 0.0,\n",
       " -0.007142857142857145,\n",
       " 0.013906222142984495,\n",
       " 0.05918220946915352,\n",
       " -0.00681492109038738,\n",
       " 0.007575757575757569,\n",
       " -0.07692307692307691,\n",
       " 0.008928571428571452,\n",
       " -0.12000000000000002,\n",
       " -0.032378580323785794,\n",
       " 0.01706970128022761,\n",
       " -0.11291213851538037,\n",
       " 0.09188034188034189,\n",
       " 0.04000000000000001,\n",
       " -0.10610465116279069,\n",
       " -0.07905982905982906,\n",
       " 0.0491015833481587,\n",
       " 0.0017857142857142794,\n",
       " 0.08,\n",
       " 0.02443438914027149,\n",
       " -0.004273504273504286,\n",
       " 0.07434480299518631,\n",
       " -0.0998389694041868,\n",
       " 0.055357142857142855,\n",
       " -0.05615974326974506,\n",
       " 0.039999999999999994,\n",
       " -0.042674253200569,\n",
       " 0.015566290928609755,\n",
       " 0.010714285714285718,\n",
       " -0.011379800853485056,\n",
       " -0.03092968890487323,\n",
       " -0.00747863247863248,\n",
       " 0.026272577996715923,\n",
       " 0.009710483725948571,\n",
       " 0.046987087517934,\n",
       " 0.04340028694404591,\n",
       " -0.029417008379390264,\n",
       " 0.001422475106685639,\n",
       " -0.0017857142857142794,\n",
       " -0.06607142857142859,\n",
       " 0.060487457747731704,\n",
       " -0.003030843287573526,\n",
       " -0.06709608158883523,\n",
       " 0.09476712821434993,\n",
       " 0.05099302200751475,\n",
       " 0.15064102564102566,\n",
       " 0.12927350427350426,\n",
       " 0.050932568149210905,\n",
       " 0.05085348506401137,\n",
       " 0.05473346407559279,\n",
       " 0.0032005689900426876,\n",
       " -0.06821589205397302,\n",
       " -0.004100552683187736,\n",
       " -0.09032716927453768,\n",
       " 0.039285714285714285,\n",
       " -0.08226495726495726,\n",
       " 0.04302987197724041,\n",
       " -0.01384643049811185,\n",
       " -0.06666666666666667,\n",
       " -0.055120910384068286,\n",
       " -0.04059829059829059,\n",
       " 0.0,\n",
       " 0.005870841487279843,\n",
       " 0.02361782071926999,\n",
       " -0.017256715886852875,\n",
       " 0.13687600644122383,\n",
       " 0.03110448873160737,\n",
       " 0.036726689249420574,\n",
       " -0.01901004304160689,\n",
       " 0.0962936046511628,\n",
       " 0.05790325481028594,\n",
       " -0.018398268398268414,\n",
       " -0.024154589371980673,\n",
       " -0.044653976160825476,\n",
       " -0.01053779069767441,\n",
       " 0.08000000000000002,\n",
       " 0.005357142857142838,\n",
       " 0.07857142857142856,\n",
       " -0.03957924763772509,\n",
       " -0.10357142857142856,\n",
       " -0.06671449067431852,\n",
       " 0.018162393162393167,\n",
       " -0.024154589371980673,\n",
       " 0.07514761137949544,\n",
       " -0.033979718911225754,\n",
       " 0.02500000000000001,\n",
       " 0.010312944523470827,\n",
       " -0.015064562410329996,\n",
       " -0.019569471624266144,\n",
       " -0.09822866344605474,\n",
       " 0.02081480163671945,\n",
       " -0.039999999999999994,\n",
       " 0.03311965811965811,\n",
       " 0.06333870101986043,\n",
       " 0.06607142857142859,\n",
       " -0.05099302200751475,\n",
       " 0.016025641025641024,\n",
       " 0.05314009661835748,\n",
       " -0.051785714285714296,\n",
       " -0.018679950186799493,\n",
       " -0.06709956709956709,\n",
       " -0.023504273504273504,\n",
       " -0.028054298642533948,\n",
       " 0.04838996619818538,\n",
       " 0.05057388809182209,\n",
       " -0.06071428571428572,\n",
       " -0.08,\n",
       " -0.09188994785110592,\n",
       " 0.05333333333333333,\n",
       " -0.020992705924212776,\n",
       " -0.0010735373054213682,\n",
       " 0.02081447963800906,\n",
       " -0.0330901974737591,\n",
       " -0.03957924763772509,\n",
       " -0.1145703611457036,\n",
       " 0.07158119658119658,\n",
       " -0.002136752136752129,\n",
       " -0.005692937199786502,\n",
       " 0.033268101761252444,\n",
       " -0.024031563845050216,\n",
       " -0.07464114832535884,\n",
       " -0.057254623044096745,\n",
       " 0.004830917874396143,\n",
       " 0.024572649572649596,\n",
       " 0.05333333333333333,\n",
       " 0.087173100871731,\n",
       " 0.015332501337136747,\n",
       " -0.059775840597758395,\n",
       " -0.07601809954751132,\n",
       " -0.07729468599033817,\n",
       " 0.09821428571428571,\n",
       " -0.014069264069264079,\n",
       " -0.10953058321479375,\n",
       " 0.05418719211822662,\n",
       " -0.02008608321377331,\n",
       " -0.0035561877667140973,\n",
       " 0.007116171499733148,\n",
       " -0.005692937199786502,\n",
       " -0.025494740595471563,\n",
       " 0.029220779220779217,\n",
       " -0.05835260629781178,\n",
       " -0.027777777777777776,\n",
       " -0.03864734299516907,\n",
       " -0.009661835748792258,\n",
       " 0.03166935050993022,\n",
       " 0.01771336553945249,\n",
       " -0.05509003387413086,\n",
       " 0.04435483870967742,\n",
       " 0.03392857142857145,\n",
       " -0.005692937199786502,\n",
       " -0.018679950186799493,\n",
       " 0.02453769559032716,\n",
       " 0.00998395435906578,\n",
       " -0.08004991977179532,\n",
       " 0.01495726495726496,\n",
       " 0.026666666666666658,\n",
       " 0.013333333333333336,\n",
       " -0.05333333333333333,\n",
       " 0.012836512747370299,\n",
       " -0.013333333333333336,\n",
       " 0.011379800853485056,\n",
       " 0.04273504273504275,\n",
       " -0.0012479942948832173,\n",
       " 0.0217043230741861,\n",
       " -0.039454806312769014,\n",
       " -0.07755393118202888,\n",
       " -0.0012479942948832173,\n",
       " -0.07574679943100995,\n",
       " -0.04591104734576758,\n",
       " -0.04374110953058323,\n",
       " -0.047678349048212054,\n",
       " -0.008890469416785202,\n",
       " 0.04302987197724041,\n",
       " 0.027990729185238025,\n",
       " -0.008967001434720234,\n",
       " 0.03787878787878787,\n",
       " -0.01717659688674182,\n",
       " -0.019323671497584544,\n",
       " -0.027990729185238025,\n",
       " 0.09495021337126601,\n",
       " 0.006904069767441859,\n",
       " 0.011053663754679977,\n",
       " -0.1686532645436755,\n",
       " 0.03228120516499282,\n",
       " 0.030583214793741126,\n",
       " -0.019323671497584544,\n",
       " -0.019391567336772803,\n",
       " -0.014285714285714277,\n",
       " 0.007116171499733148,\n",
       " 0.07683658170914542,\n",
       " -0.06303418803418805,\n",
       " -0.039285714285714285,\n",
       " 0.04616210413311864,\n",
       " -0.16061046511627908,\n",
       " 0.06924315619967793,\n",
       " -0.10628019323671498,\n",
       " 0.0611111111111111,\n",
       " 0.019323671497584544,\n",
       " 0.023214285714285715,\n",
       " -0.06493506493506493,\n",
       " -0.016666666666666663,\n",
       " 0.042857142857142844,\n",
       " -0.026666666666666672,\n",
       " 0.07353730542136339,\n",
       " -0.08646148372175769,\n",
       " -0.046788827610745404,\n",
       " 0.053663754679978595,\n",
       " 0.02510760401721665,\n",
       " -0.07984175508002159,\n",
       " -0.059953744885251736,\n",
       " 0.10822510822510821,\n",
       " -0.006404554349759825,\n",
       " -0.012912482065997127,\n",
       " 0.06837606837606838,\n",
       " -0.039999999999999994,\n",
       " 0.03469133606119908,\n",
       " -0.008005692937199799,\n",
       " 0.02259684361549498,\n",
       " 0.006404554349759825,\n",
       " 0.01600431577054487,\n",
       " 0.017194570135746615,\n",
       " 0.05662393162393163,\n",
       " -0.0571072762853585,\n",
       " -0.003911806543385493,\n",
       " -0.036726689249420574,\n",
       " 0.057142857142857134,\n",
       " -0.008547008547008544,\n",
       " -0.04483188044831882,\n",
       " -0.013333333333333336,\n",
       " 0.06517094017094016,\n",
       " 0.005870841487279843,\n",
       " 0.0075520353656290395,\n",
       " -0.029871977240398306,\n",
       " -0.08035714285714288,\n",
       " 0.08961593172119486,\n",
       " -0.0017857142857142794,\n",
       " -0.12339971550497868,\n",
       " 0.056899004267425335,\n",
       " -0.053571428571428575,\n",
       " 0.0017857142857142794,\n",
       " 0.09110473457675754,\n",
       " 0.04081999640352453,\n",
       " -0.006404554349759825,\n",
       " -0.008841407257321784,\n",
       " 0.04409672830725464,\n",
       " 0.05333333333333333,\n",
       " -0.057013574660633476,\n",
       " -0.06527977044476327,\n",
       " -0.013906222142984495,\n",
       " 0.0021337126600284584,\n",
       " 0.008473015288266716,\n",
       " -0.03571428571428571,\n",
       " -0.05448717948717949,\n",
       " -0.03311965811965811,\n",
       " 0.02147074610842728,\n",
       " 0.0649490069779925,\n",
       " -0.07551319648093843,\n",
       " 0.05473346407559279,\n",
       " 0.05918220946915352,\n",
       " 0.011111111111111113,\n",
       " 0.0886752136752137,\n",
       " -0.0649490069779925,\n",
       " -0.036324786324786335,\n",
       " -0.005341880341880337,\n",
       " 0.002844950213371278,\n",
       " 0.018857854474292834,\n",
       " 0.02301744290595216,\n",
       " 0.03815296844357283,\n",
       " 0.09554482018250135,\n",
       " -0.0007267441860465129,\n",
       " 0.024748923959827834,\n",
       " -0.029160739687055487,\n",
       " -0.051574875667710435,\n",
       " -0.03596349973161567,\n",
       " 0.06886657101865136,\n",
       " 0.0018099547511312153,\n",
       " 0.06333870101986043,\n",
       " 0.002844950213371278,\n",
       " 0.05333333333333333,\n",
       " 0.03722352094946953,\n",
       " 0.013333333333333336,\n",
       " -0.09407796101949026,\n",
       " -0.027375201288244777,\n",
       " 0.02347083926031293,\n",
       " -0.11647879763821795,\n",
       " 0.004100552683187736,\n",
       " -0.09591727580673916,\n",
       " -0.037790697674418616,\n",
       " 0.009661835748792258,\n",
       " 0.07681365576102417,\n",
       " -0.0017857142857142794,\n",
       " -0.05636070853462158,\n",
       " -0.0747863247863248,\n",
       " -0.006582458637253152,\n",
       " -0.029516358463726897,\n",
       " -0.02008608321377331,\n",
       " -0.037695590327169265,\n",
       " -0.007131395970761276,\n",
       " -0.09032716927453768,\n",
       " -0.010969250134867825,\n",
       " -0.00747863247863248,\n",
       " 0.06739169192369407,\n",
       " -0.02252906976744186,\n",
       " -0.009661835748792258,\n",
       " -0.05377906976744186,\n",
       " -0.010140544387119726,\n",
       " -0.06632198252807986,\n",
       " -0.04059829059829059,\n",
       " -0.04166666666666666,\n",
       " -0.04340028694404591,\n",
       " -0.005357142857142838,\n",
       " 0.11486849168008587,\n",
       " 0.036199095022624445,\n",
       " 0.0815888352120236,\n",
       " 0.04455179817498657,\n",
       " -0.05085348506401137,\n",
       " -0.046077210460772094,\n",
       " 0.03520625889046941,\n",
       " -0.040648957033339275,\n",
       " 0.026666666666666672,\n",
       " -0.053333333333333344,\n",
       " -0.05509003387413086,\n",
       " -0.08333333333333333,\n",
       " 0.07205123643479808,\n",
       " 0.07222914072229142,\n",
       " 0.07912245998921057,\n",
       " -0.04000000000000001,\n",
       " 0.09523809523809523,\n",
       " 0.10178571428571428,\n",
       " 0.02361782071926999,\n",
       " -0.03815296844357283,\n",
       " 0.010312944523470827,\n",
       " 0.04807692307692307,\n",
       " -0.07368035190615835,\n",
       " 0.05095307917888564,\n",
       " 0.002136752136752129,\n",
       " -0.009246088193456597,\n",
       " -0.011752136752136766,\n",
       " 0.0021337126600284584,\n",
       " -0.05200860832137734,\n",
       " 0.10104963529621064,\n",
       " -0.0026838432635534204,\n",
       " -0.040648957033339275,\n",
       " -0.032378580323785794,\n",
       " 0.07294075787226473,\n",
       " 0.023115220483641535,\n",
       " 0.019323671497584544,\n",
       " -0.04938491709752184,\n",
       " 0.004329004329004321,\n",
       " -0.08735100515922434,\n",
       " 0.004981320049813193,\n",
       " -0.05333333333333333,\n",
       " 0.03262613656623284,\n",
       " 0.0,\n",
       " 0.07719736138349083,\n",
       " -0.015151515151515138,\n",
       " 0.016358463726884792,\n",
       " -0.026709401709401698,\n",
       " -0.016071428571428556,\n",
       " 0.059829059829059825,\n",
       " -0.06632198252807986,\n",
       " -0.04273504273504275,\n",
       " 0.03098290598290597,\n",
       " 0.045543497598292126,\n",
       " 0.09047965116279069,\n",
       " -0.07645803698435277,\n",
       " 0.11107017867010499,\n",
       " -0.051583710407239816,\n",
       " -0.07205123643479808,\n",
       " -0.028225806451612906,\n",
       " -0.07139023081052065,\n",
       " -0.05781889343533181,\n",
       " -0.02085933321447675,\n",
       " 0.045365593310798785,\n",
       " -0.02147074610842728,\n",
       " 0.09665697674418605,\n",
       " -0.09285714285714286,\n",
       " 0.006410256410256415,\n",
       " -0.053571428571428575,\n",
       " 0.08735100515922434,\n",
       " -0.036273115220483626,\n",
       " 0.03957924763772509,\n",
       " 0.035256410256410256,\n",
       " 0.03957924763772509,\n",
       " 0.03571428571428571,\n",
       " -0.04616210413311864,\n",
       " 0.020444763271162097,\n",
       " 0.04010070131271354,\n",
       " -0.08928571428571427,\n",
       " -0.03479196556671449,\n",
       " 0.05924212773527843,\n",
       " 0.046966731898238745,\n",
       " 0.04978354978354979,\n",
       " -0.06365576102418208,\n",
       " 0.10321884553137926,\n",
       " -0.06730769230769232,\n",
       " -0.06333870101986043,\n",
       " -0.1008717310087173,\n",
       " -0.13629842180774748,\n",
       " 0.022477971587843898,\n",
       " -0.11486849168008587,\n",
       " -0.033801814623732426,\n",
       " 0.024709302325581384,\n",
       " 0.03197674418604651,\n",
       " 0.011752136752136766,\n",
       " 0.004269702899839883,\n",
       " -0.011410233553218047,\n",
       " 0.010668563300142236,\n",
       " 0.02857142857142858,\n",
       " 0.0734744707347447,\n",
       " 0.002489331436699868,\n",
       " -0.013333333333333336,\n",
       " -0.026666666666666658,\n",
       " -0.04220779220779222,\n",
       " -0.0438034188034188,\n",
       " 0.06436699857752488,\n",
       " -0.07085755813953488,\n",
       " 0.02136752136752136,\n",
       " 0.04999027426570704,\n",
       " 0.04770675999263216,\n",
       " 0.010969250134867825,\n",
       " -0.03586800573888091,\n",
       " 0.025641025641025633,\n",
       " -0.008557675164913528,\n",
       " -0.017176596886741807,\n",
       " -0.056899004267425335,\n",
       " -0.021428571428571436,\n",
       " 0.0373931623931624,\n",
       " 0.02382645803698434,\n",
       " -0.07205123643479808,\n",
       " -0.01532567049808431,\n",
       " -0.016723610861355848,\n",
       " 0.10256410256410256,\n",
       " 0.009428927237146417,\n",
       " -0.053571428571428575,\n",
       " 0.0072940757872264755,\n",
       " -0.06922525107604016,\n",
       " -0.009164222873900285,\n",
       " 0.014262791941522551,\n",
       " -0.0035714285714285587,\n",
       " 0.008797653958944301,\n",
       " -0.0703012912482066,\n",
       " -0.013127135407300858,\n",
       " 0.05330718488144055,\n",
       " -0.021520803443328546,\n",
       " -0.06632198252807986,\n",
       " -0.036984352773826445,\n",
       " -0.02243589743589744,\n",
       " 0.08575503654840434,\n",
       " -0.035256410256410256,\n",
       " 0.03205128205128206,\n",
       " -0.03311965811965813,\n",
       " 0.08516746411483253,\n",
       " -0.002844950213371278,\n",
       " 0.09811046511627908,\n",
       " 0.05021367521367523,\n",
       " -0.05418719211822662,\n",
       " 0.0078909612625538,\n",
       " -0.023115220483641535,\n",
       " -0.09285714285714286,\n",
       " -0.02081480163671945,\n",
       " 0.05333333333333333,\n",
       " -0.01040172166427547,\n",
       " -0.013906222142984495,\n",
       " 0.09411764705882354,\n",
       " -0.026666666666666672,\n",
       " 0.026666666666666672,\n",
       " 0.026785714285714288,\n",
       " -0.04927171372055385,\n",
       " 0.017194570135746615,\n",
       " 0.11003757380568974,\n",
       " 0.02393617021276595,\n",
       " -0.05099302200751475,\n",
       " -0.03571428571428571,\n",
       " 0.0007173601147776321,\n",
       " 0.09502262443438915,\n",
       " -0.07121021399028951,\n",
       " -0.016071428571428556,\n",
       " 0.04107142857142858,\n",
       " -0.023460410557184744,\n",
       " 0.005341880341880337,\n",
       " 0.017263082179464123,\n",
       " -0.031133250311332517,\n",
       " -0.08,\n",
       " -0.10277382645803698,\n",
       " 0.031666963173812485,\n",
       " -0.006404554349759825,\n",
       " 0.0035561877667140973,\n",
       " 0.007575757575757583,\n",
       " -0.03922267783918702,\n",
       " -0.019323671497584544,\n",
       " -0.010140544387119726,\n",
       " 0.07681365576102417,\n",
       " -0.05615974326974506,\n",
       " -0.011410233553218047,\n",
       " -0.036324786324786335,\n",
       " -0.02618364418938307,\n",
       " -0.05377906976744186,\n",
       " 0.08226495726495726,\n",
       " 0.02418207681365575,\n",
       " -0.011410233553218047,\n",
       " 0.08428165007112377,\n",
       " 0.011764705882352927,\n",
       " 0.03650026838432635,\n",
       " -0.053663754679978595,\n",
       " 0.06061692969870876,\n",
       " 0.022642182207167044,\n",
       " -0.033715925394548055,\n",
       " -0.07533615767176276,\n",
       " 0.05188090568728827,\n",
       " 0.015332501337136747,\n",
       " -0.05689747718733225,\n",
       " 0.013333333333333322,\n",
       " 0.033268101761252444,\n",
       " -0.023535851122058013,\n",
       " -0.057610241820768154,\n",
       " -0.07998565279770445,\n",
       " -0.08319914117015567,\n",
       " -0.014285714285714277,\n",
       " 0.06276901004304161,\n",
       " 0.008717310087173108,\n",
       " -0.07276285358477139,\n",
       " -0.024572649572649596,\n",
       " -0.06995144758137026,\n",
       " -0.004830917874396143,\n",
       " -0.02008608321377331,\n",
       " 0.046077210460772094,\n",
       " -0.042857142857142844,\n",
       " -0.03392857142857145,\n",
       " -0.025974025974025983,\n",
       " -0.020992705924212776,\n",
       " 0.022007514761137936,\n",
       " -0.06666666666666667,\n",
       " -0.032556484611279135,\n",
       " 0.059829059829059825,\n",
       " -0.033484162895927594,\n",
       " -0.039999999999999994,\n",
       " 0.038378766140602594,\n",
       " 0.06666666666666667,\n",
       " 0.05448717948717949,\n",
       " 0.0216275659824047,\n",
       " -0.026785714285714288,\n",
       " -0.04302987197724041,\n",
       " 0.022238035936666067,\n",
       " 0.05853051058530512,\n",
       " -0.016358463726884792,\n",
       " -0.05972850678733033,\n",
       " -0.006977992485238865,\n",
       " 0.12721417069243154,\n",
       " -0.026666666666666672,\n",
       " 0.013127135407300858,\n",
       " -0.03730272596843616,\n",
       " -0.04437229437229438,\n",
       " -0.04711382844812084,\n",
       " -0.07857142857142856,\n",
       " 0.029710016011385898,\n",
       " -0.08878587983597788,\n",
       " -0.0017934002869440524,\n",
       " 0.07792207792207792,\n",
       " -0.08749329039184112,\n",
       " 0.031666963173812485,\n",
       " -0.0738880918220947,\n",
       " -0.01915708812260536,\n",
       " -0.09773755656108599,\n",
       " 0.046987087517934,\n",
       " 0.09698698520235335,\n",
       " 0.028694404591104727,\n",
       " -0.02259684361549498,\n",
       " -0.09891478384629071,\n",
       " 0.002844950213371278,\n",
       " 0.033979718911225754,\n",
       " -0.010249955044056819,\n",
       " 0.044653976160825476,\n",
       " -0.008195194635872594,\n",
       " -0.008717310087173108,\n",
       " -0.08119658119658121,\n",
       " -0.021520803443328546,\n",
       " -0.02977044476327116,\n",
       " -0.05081119629167409,\n",
       " 0.04434389140271494,\n",
       " -0.05667144906743185,\n",
       " 0.037339971550497855,\n",
       " -0.07149321266968327,\n",
       " 0.01706970128022761,\n",
       " -0.034824046920821125,\n",
       " 0.0,\n",
       " 0.07142857142857142,\n",
       " -0.03166935050993022,\n",
       " -0.00017828489926902114,\n",
       " -0.0815544608648057,\n",
       " 0.05918220946915352,\n",
       " 0.02259684361549498,\n",
       " 0.013333333333333336,\n",
       " -0.019642857142857156,\n",
       " 0.026666666666666672,\n",
       " -0.07499999999999998,\n",
       " -0.02347083926031293,\n",
       " -0.04166666666666666,\n",
       " 0.03311965811965811,\n",
       " 0.06666666666666668,\n",
       " -0.03418803418803418,\n",
       " -0.06303418803418805,\n",
       " 0.024154589371980673,\n",
       " 0.005526831877339988,\n",
       " 0.028846153846153855,\n",
       " -0.012553802008608325,\n",
       " 0.04978197674418605,\n",
       " 0.0016103059581320384,\n",
       " -0.1275573741327166,\n",
       " -0.02517532817838518,\n",
       " 0.0054112554112553946,\n",
       " 0.05559540889526543,\n",
       " -0.019391567336772803,\n",
       " 0.05330718488144055,\n",
       " -0.06774826172223213,\n",
       " 0.07365237502223804,\n",
       " 0.07142857142857142,\n",
       " -0.039999999999999994,\n",
       " -0.09591727580673916,\n",
       " -0.025138170796933507,\n",
       " -0.07755393118202888,\n",
       " 0.0032051282051281937,\n",
       " -0.012820512820512803,\n",
       " 0.060606060606060594,\n",
       " -0.046788827610745404,\n",
       " -0.06632198252807986,\n",
       " -0.0072940757872264755,\n",
       " -0.13333333333333333,\n",
       " 0.04273504273504275,\n",
       " -0.04524886877828055,\n",
       " 0.01428571428571429,\n",
       " 0.006493506493506496,\n",
       " 0.025494740595471563,\n",
       " -0.06420373027259685,\n",
       " 0.008005692937199799,\n",
       " -0.055357142857142855,\n",
       " 0.11580086580086581,\n",
       " 0.039999999999999994,\n",
       " -0.0373931623931624,\n",
       " -0.12123373150294169,\n",
       " -0.0407944176060118,\n",
       " 0.027990729185238025,\n",
       " -0.0730005367686527,\n",
       " 0.06707426721812625,\n",
       " 0.02259684361549498,\n",
       " -0.03092968890487323,\n",
       " -0.08961593172119486,\n",
       " -0.07514761137949544,\n",
       " -0.1363879479408094,\n",
       " -0.039285714285714285,\n",
       " 0.015029522275899099,\n",
       " 0.05120910384068278,\n",
       " 0.0072940757872264755,\n",
       " 0.08,\n",
       " 0.051785714285714296,\n",
       " 0.004273504273504286,\n",
       " 0.026666666666666672,\n",
       " -0.06334841628959277,\n",
       " -0.05254515599343185,\n",
       " -0.07697947214076248,\n",
       " 0.029160739687055487,\n",
       " 0.05333333333333333,\n",
       " -0.022642182207167044,\n",
       " -0.0032051282051281937,\n",
       " 0.033268101761252444,\n",
       " 0.00017828489926902114,\n",
       " -0.018162393162393167,\n",
       " -0.039999999999999994,\n",
       " 0.037339971550497855,\n",
       " -0.04949784791965567,\n",
       " -0.04010070131271354,\n",
       " 0.07755393118202888,\n",
       " -0.01428571428571429,\n",
       " -0.010312944523470827,\n",
       " 0.004100552683187736,\n",
       " 0.039999999999999994,\n",
       " -0.07005689900426744,\n",
       " -0.011410233553218047,\n",
       " 0.0703012912482066,\n",
       " 0.0010822510822510734,\n",
       " 0.0407239819004525,\n",
       " -0.07857142857142857,\n",
       " 0.010683760683760701,\n",
       " -0.0373931623931624,\n",
       " -0.016103059581320446,\n",
       " 0.020281088774239453,\n",
       " 0.03234011627906977,\n",
       " 0.10897435897435899,\n",
       " 0.010683760683760701,\n",
       " 0.034353193773483615,\n",
       " 0.0,\n",
       " 0.0072940757872264755,\n",
       " -0.07024425031199857,\n",
       " -0.07279693486590039,\n",
       " 0.03815296844357283,\n",
       " -0.034353193773483615,\n",
       " -0.05314009661835748,\n",
       " -0.02147074610842728,\n",
       " 0.008547008547008544,\n",
       " 0.0067748261722232195,\n",
       " -0.03596349973161567,\n",
       " -0.004267425320056917,\n",
       " -0.10241820768136556,\n",
       " -0.07499999999999998,\n",
       " 0.015689071135674804,\n",
       " 0.026709401709401698,\n",
       " -0.07321428571428572,\n",
       " 0.02081447963800906,\n",
       " 0.04642857142857143,\n",
       " 0.07142857142857142,\n",
       " -0.03710407239819005,\n",
       " 0.07180851063829788,\n",
       " 0.0986425339366516,\n",
       " 0.12669683257918551,\n",
       " -0.08859397417503588,\n",
       " 0.05610859728506788,\n",
       " -0.010312944523470827,\n",
       " -0.010683760683760701,\n",
       " -0.1041033434650456,\n",
       " 0.037756598240469216,\n",
       " -0.06119907489770503,\n",
       " -0.004273504273504286,\n",
       " -0.0075147611379495355,\n",
       " 0.07678571428571429,\n",
       " 0.05344332855093257,\n",
       " 0.025641025641025633,\n",
       " 0.07404678578006998,\n",
       " 0.07205123643479808,\n",
       " -0.03952991452991453,\n",
       " -0.06152204836415362,\n",
       " 0.01709401709401709,\n",
       " 0.016002844950213382,\n",
       " 0.05662393162393163,\n",
       " -0.074186087884718,\n",
       " -0.03740334472217227,\n",
       " -0.08319914117015567,\n",
       " -0.0032281205164992888,\n",
       " 0.053333333333333344,\n",
       " 0.00017828489926902114,\n",
       " -0.057013574660633476,\n",
       " -0.005870841487279843,\n",
       " 0.059953744885251736,\n",
       " 0.1477832512315271,\n",
       " -0.08,\n",
       " 0.01282051282051283,\n",
       " -0.006410256410256401,\n",
       " 0.06666666666666667,\n",
       " 0.09063118144218665,\n",
       " -0.02347083926031293,\n",
       " 0.03381642512077296,\n",
       " 0.057254623044096745,\n",
       " 0.00681492109038738,\n",
       " -0.12123373150294169,\n",
       " -0.0217043230741861,\n",
       " -0.07639885222381636,\n",
       " -0.015988372093023256,\n",
       " -0.04455179817498657,\n",
       " 0.024572649572649596,\n",
       " -0.004267425320056917,\n",
       " -0.06517094017094016,\n",
       " 0.026666666666666672,\n",
       " -0.041071428571428564,\n",
       " 0.0381105743424584,\n",
       " -0.011024182076813646,\n",
       " 0.060654857756307023,\n",
       " 0.04010070131271354,\n",
       " -0.08588298443370906,\n",
       " ...]"
      ]
     },
     "execution_count": 95,
     "metadata": {},
     "output_type": "execute_result"
    }
   ],
   "source": [
    "### import numpy as np \n",
    "np.random.seed(42)\n",
    "p_diffs = [] \n",
    "for _ in range(10000): \n",
    "    bootsample = df2.sample(150, replace = True)\n",
    "    p_new = bootsample[bootsample['landing_page']=='new_page']['converted'].mean()\n",
    "    p_old = bootsample[bootsample['landing_page']=='old_page']['converted'].mean()\n",
    "    p_diffs.append(p_new - p_old)\n",
    "\n",
    "p_diffs    \n",
    "#np.percentile(p_diffs,2.5), np.percentile(p_diffs,97.5)"
   ]
  },
  {
   "cell_type": "markdown",
   "metadata": {},
   "source": [
    "j. What proportion of the **p_diffs** are greater than the actual difference observed in **ab_data.csv**?"
   ]
  },
  {
   "cell_type": "code",
   "execution_count": 49,
   "metadata": {},
   "outputs": [
    {
     "data": {
      "text/plain": [
       "col    49.77\n",
       "dtype: float64"
      ]
     },
     "execution_count": 49,
     "metadata": {},
     "output_type": "execute_result"
    }
   ],
   "source": [
    "import numpy as np \n",
    "import pandas as pd\n",
    "np.random.seed(42)\n",
    "p_diffs = [] \n",
    "for _ in range(10000): \n",
    "    bootsample = df2.sample(150, replace = True)\n",
    "    p_new = bootsample[bootsample['landing_page']=='new_page']['converted'].mean()\n",
    "    p_old = bootsample[bootsample['landing_page']=='old_page']['converted'].mean()\n",
    "    p_diffs.append(p_new - p_old)\n",
    "\n",
    "p_diffs \n",
    "\n",
    "\n",
    "import numpy as np \n",
    "actual_old = df_old.converted.mean()\n",
    "actual_old\n",
    "actual_new = df_new.converted.mean()\n",
    "actual_new\n",
    "actual_diff = actual_new - actual_old\n",
    "actual_diff\n",
    " \n",
    "a = pd.DataFrame({'col':p_diffs})\n",
    "a\n",
    "diff_check = a - actual_diff\n",
    "diff_check\n",
    "\n",
    "df_final = diff_check[diff_check['col'] > 0.0]\n",
    "df_final\n",
    "\n",
    "df_check = df_final.count()\n",
    "proportions = (df_check/10000)*100\n",
    "proportions\n",
    "\n",
    "#def func(diff_check):\n",
    "#    boolean=0\n",
    "#    for k in diff_check:\n",
    "#        if k > 0.0:\n",
    "#            boolean = 1\n",
    "#        else:\n",
    "#            boolean\n",
    "\n",
    "#func(diff_check)\n",
    "#x = sum(boolean)\n",
    "#print(x)"
   ]
  },
  {
   "cell_type": "markdown",
   "metadata": {},
   "source": [
    "k. In words, explain what you just computed in part **j.**  What is this value called in scientific studies?  What does this value mean in terms of whether or not there is a difference between the new and old pages?"
   ]
  },
  {
   "cell_type": "markdown",
   "metadata": {},
   "source": [
    "**It shows the error associated with our simulation. 49.97% of the 10000 simulations gave us the difference in means is slightly greater than difference in means in the actuals. Since this is nearly 50%, This is tending towards NULL hypothesis being true. We will need to check if this difference is actually statistically significant in the next question**"
   ]
  },
  {
   "cell_type": "markdown",
   "metadata": {},
   "source": [
    "l. We could also use a built-in to achieve similar results.  Though using the built-in might be easier to code, the above portions are a walkthrough of the ideas that are critical to correctly thinking about statistical significance. Fill in the below to calculate the number of conversions for each page, as well as the number of individuals who received each page. Let `n_old` and `n_new` refer the the number of rows associated with the old page and new pages, respectively."
   ]
  },
  {
   "cell_type": "code",
   "execution_count": 57,
   "metadata": {},
   "outputs": [
    {
     "name": "stdout",
     "output_type": "stream",
     "text": [
      "user_id         145310\n",
      "timestamp       145310\n",
      "group           145310\n",
      "landing_page    145310\n",
      "converted       145310\n",
      "dtype: int64\n",
      "17264\n",
      "        user_id timestamp    group landing_page  converted\n",
      "0        851104   11:48.6  control     old_page          0\n",
      "1        804228   01:45.2  control     old_page          0\n",
      "4        864975   52:26.2  control     old_page          1\n",
      "5        936923   20:49.1  control     old_page          0\n",
      "7        719014   48:29.5  control     old_page          0\n",
      "15       644214   05:21.7  control     old_page          1\n",
      "16       847721   01:00.1  control     old_page          0\n",
      "18       650559   55:51.1  control     old_page          0\n",
      "19       935734   33:37.4  control     old_page          0\n",
      "25       746742   38:29.6  control     old_page          0\n",
      "28       913579   11:39.2  control     old_page          1\n",
      "30       690284   22:57.2  control     old_page          0\n",
      "34       710349   24:44.2  control     old_page          0\n",
      "35       677533   48:50.5  control     old_page          0\n",
      "36       831737   18:20.9  control     old_page          1\n",
      "40       771087   05:30.0  control     old_page          0\n",
      "42       896163   10:20.8  control     old_page          0\n",
      "43       862225   49:37.3  control     old_page          1\n",
      "44       939593   15:32.0  control     old_page          0\n",
      "45       702260   55:31.5  control     old_page          0\n",
      "50       670941   16:41.3  control     old_page          0\n",
      "51       850231   18:04.8  control     old_page          1\n",
      "55       685794   54:58.2  control     old_page          0\n",
      "57       714733   22:37.9  control     old_page          0\n",
      "58       710967   19:22.8  control     old_page          0\n",
      "59       680201   38:46.0  control     old_page          0\n",
      "60       790863   02:39.2  control     old_page          0\n",
      "61       717595   19:08.1  control     old_page          0\n",
      "62       779854   28:30.7  control     old_page          0\n",
      "63       916307   27:38.7  control     old_page          0\n",
      "...         ...       ...      ...          ...        ...\n",
      "294419   814411   39:58.3  control     old_page          0\n",
      "294420   795742   06:58.3  control     old_page          1\n",
      "294421   703984   09:48.3  control     old_page          0\n",
      "294423   641233   11:53.1  control     old_page          0\n",
      "294425   673060   26:39.9  control     old_page          0\n",
      "294426   858452   54:51.9  control     old_page          0\n",
      "294428   635586   17:19.3  control     old_page          0\n",
      "294429   901184   18:11.2  control     old_page          0\n",
      "294431   779209   27:25.7  control     old_page          0\n",
      "294436   851940   42:42.0  control     old_page          0\n",
      "294438   676168   51:15.6  control     old_page          0\n",
      "294440   730613   11:21.3  control     old_page          0\n",
      "294443   665217   29:01.8  control     old_page          1\n",
      "294447   640867   56:35.8  control     old_page          0\n",
      "294451   875688   19:49.0  control     old_page          0\n",
      "294452   927527   52:11.1  control     old_page          0\n",
      "294453   789177   17:56.2  control     old_page          0\n",
      "294459   924816   59:03.5  control     old_page          0\n",
      "294461   740310   22:19.8  control     old_page          0\n",
      "294463   832080   18:27.4  control     old_page          0\n",
      "294464   834362   51:56.1  control     old_page          0\n",
      "294466   923948   33:41.1  control     old_page          0\n",
      "294467   857744   00:56.0  control     old_page          0\n",
      "294469   755438   35:06.1  control     old_page          0\n",
      "294470   908354   42:21.2  control     old_page          0\n",
      "294471   718310   44:20.4  control     old_page          0\n",
      "294473   751197   28:38.6  control     old_page          0\n",
      "294474   945152   51:57.1  control     old_page          0\n",
      "294475   734608   45:03.4  control     old_page          0\n",
      "294476   697314   20:29.0  control     old_page          0\n",
      "\n",
      "[145274 rows x 5 columns]\n",
      "17489\n"
     ]
    }
   ],
   "source": [
    "import statsmodels.api as sm\n",
    "n_new = df2.query('landing_page == \"new_page\"')\n",
    "total_new = n_new.count()\n",
    "print(total_new)\n",
    "convert_new = n_new['converted'].sum()\n",
    "print(convert_new)\n",
    "n_old = df2.query('landing_page == \"old_page\"')\n",
    "convert_old = n_old['converted'].sum()\n",
    "print(n_old)\n",
    "print(convert_old)"
   ]
  },
  {
   "cell_type": "markdown",
   "metadata": {},
   "source": [
    "m. Now use `stats.proportions_ztest` to compute your test statistic and p-value.  [Here](http://knowledgetack.com/python/statsmodels/proportions_ztest/) is a helpful link on using the built in."
   ]
  },
  {
   "cell_type": "code",
   "execution_count": 40,
   "metadata": {},
   "outputs": [
    {
     "name": "stdout",
     "output_type": "stream",
     "text": [
      "1.3109241984234394\n",
      "0.18988337448195103\n"
     ]
    }
   ],
   "source": [
    "import statsmodels.api as sm\n",
    "\n",
    "#import numpy as np\n",
    "#from statsmodels.stats.proportion import proportions_ztest\n",
    "#count = np.array([17489, 145310])\n",
    "#nobs = np.array([83, 99])\n",
    "#stat, pval = proportions_ztest(counts, nobs)\n",
    "#print('{0:0.3f}'.format(pval))\n",
    "\n",
    "z_score, p_value = sm.stats.proportions_ztest([17489, 17264],[145274, 145310])\n",
    "\n",
    "print(z_score) \n",
    "print(p_value)\n",
    "#p_value\n",
    "\n",
    "from scipy.stats import norm\n",
    "\n",
    "#norm.cdf(z_score)\n",
    "# 0.9999999383005862 # Tells us how significant our z-score is\n",
    "\n",
    "#norm.ppf(1-(0.05/2))\n",
    "# 1.959963984540054 # Tells us what our critical value at 95% confidence is"
   ]
  },
  {
   "cell_type": "markdown",
   "metadata": {},
   "source": [
    "n. What do the z-score and p-value you computed in the previous question mean for the conversion rates of the old and new pages?  Do they agree with the findings in parts **j.** and **k.**?"
   ]
  },
  {
   "cell_type": "markdown",
   "metadata": {},
   "source": [
    "**As we see the p value is > 0.05 and the z score is 1.31 which is within the critical value we cannot reject the null hypothesis. The difference between the mean conversions between old and new page is not statistically significant**"
   ]
  },
  {
   "cell_type": "markdown",
   "metadata": {},
   "source": [
    "<a id='regression'></a>\n",
    "### Part III - A regression approach\n",
    "\n",
    "`1.` In this final part, you will see that the result you acheived in the previous A/B test can also be acheived by performing regression.<br><br>\n",
    "\n",
    "a. Since each row is either a conversion or no conversion, what type of regression should you be performing in this case?"
   ]
  },
  {
   "cell_type": "markdown",
   "metadata": {},
   "source": [
    "**Logistic regression**"
   ]
  },
  {
   "cell_type": "markdown",
   "metadata": {},
   "source": [
    "b. The goal is to use **statsmodels** to fit the regression model you specified in part **a.** to see if there is a significant difference in conversion based on which page a customer receives.  However, you first need to create a column for the intercept, and create a dummy variable column for which page each user received.  Add an **intercept** column, as well as an **ab_page** column, which is 1 when an individual receives the **treatment** and 0 if **control**."
   ]
  },
  {
   "cell_type": "code",
   "execution_count": 22,
   "metadata": {},
   "outputs": [
    {
     "data": {
      "text/html": [
       "<div>\n",
       "<style scoped>\n",
       "    .dataframe tbody tr th:only-of-type {\n",
       "        vertical-align: middle;\n",
       "    }\n",
       "\n",
       "    .dataframe tbody tr th {\n",
       "        vertical-align: top;\n",
       "    }\n",
       "\n",
       "    .dataframe thead th {\n",
       "        text-align: right;\n",
       "    }\n",
       "</style>\n",
       "<table border=\"1\" class=\"dataframe\">\n",
       "  <thead>\n",
       "    <tr style=\"text-align: right;\">\n",
       "      <th></th>\n",
       "      <th>user_id</th>\n",
       "      <th>timestamp</th>\n",
       "      <th>group</th>\n",
       "      <th>landing_page</th>\n",
       "      <th>converted</th>\n",
       "      <th>intercept</th>\n",
       "      <th>old_page</th>\n",
       "      <th>new_page</th>\n",
       "      <th>ab_page</th>\n",
       "    </tr>\n",
       "  </thead>\n",
       "  <tbody>\n",
       "    <tr>\n",
       "      <th>2</th>\n",
       "      <td>661590</td>\n",
       "      <td>55:06.2</td>\n",
       "      <td>treatment</td>\n",
       "      <td>new_page</td>\n",
       "      <td>0</td>\n",
       "      <td>1</td>\n",
       "      <td>0</td>\n",
       "      <td>1</td>\n",
       "      <td>1</td>\n",
       "    </tr>\n",
       "    <tr>\n",
       "      <th>3</th>\n",
       "      <td>853541</td>\n",
       "      <td>28:03.1</td>\n",
       "      <td>treatment</td>\n",
       "      <td>new_page</td>\n",
       "      <td>0</td>\n",
       "      <td>1</td>\n",
       "      <td>0</td>\n",
       "      <td>1</td>\n",
       "      <td>1</td>\n",
       "    </tr>\n",
       "    <tr>\n",
       "      <th>6</th>\n",
       "      <td>679687</td>\n",
       "      <td>26:46.9</td>\n",
       "      <td>treatment</td>\n",
       "      <td>new_page</td>\n",
       "      <td>1</td>\n",
       "      <td>1</td>\n",
       "      <td>0</td>\n",
       "      <td>1</td>\n",
       "      <td>1</td>\n",
       "    </tr>\n",
       "    <tr>\n",
       "      <th>8</th>\n",
       "      <td>817355</td>\n",
       "      <td>58:09.0</td>\n",
       "      <td>treatment</td>\n",
       "      <td>new_page</td>\n",
       "      <td>1</td>\n",
       "      <td>1</td>\n",
       "      <td>0</td>\n",
       "      <td>1</td>\n",
       "      <td>1</td>\n",
       "    </tr>\n",
       "    <tr>\n",
       "      <th>9</th>\n",
       "      <td>839785</td>\n",
       "      <td>11:06.6</td>\n",
       "      <td>treatment</td>\n",
       "      <td>new_page</td>\n",
       "      <td>1</td>\n",
       "      <td>1</td>\n",
       "      <td>0</td>\n",
       "      <td>1</td>\n",
       "      <td>1</td>\n",
       "    </tr>\n",
       "  </tbody>\n",
       "</table>\n",
       "</div>"
      ],
      "text/plain": [
       "   user_id timestamp      group landing_page  converted  intercept  old_page  \\\n",
       "2   661590   55:06.2  treatment     new_page          0          1         0   \n",
       "3   853541   28:03.1  treatment     new_page          0          1         0   \n",
       "6   679687   26:46.9  treatment     new_page          1          1         0   \n",
       "8   817355   58:09.0  treatment     new_page          1          1         0   \n",
       "9   839785   11:06.6  treatment     new_page          1          1         0   \n",
       "\n",
       "   new_page ab_page  \n",
       "2         1       1  \n",
       "3         1       1  \n",
       "6         1       1  \n",
       "8         1       1  \n",
       "9         1       1  "
      ]
     },
     "execution_count": 22,
     "metadata": {},
     "output_type": "execute_result"
    }
   ],
   "source": [
    "import numpy as np \n",
    "import pandas as pd\n",
    "import statsmodels.api as sm;\n",
    "\n",
    "df2['intercept']=1\n",
    "df2[['new_page','old_page']] = pd.get_dummies(df2['landing_page'])\n",
    "df2['ab_page'] = df2['group'].apply(lambda x: '1' if x == 'treatment' else '0')\n",
    "df2.head()"
   ]
  },
  {
   "cell_type": "markdown",
   "metadata": {},
   "source": [
    "c. Use **statsmodels** to import your regression model.  Instantiate the model, and fit the model using the two columns you created in part **b.** to predict whether or not an individual converts."
   ]
  },
  {
   "cell_type": "code",
   "execution_count": 38,
   "metadata": {},
   "outputs": [
    {
     "name": "stdout",
     "output_type": "stream",
     "text": [
      "Optimization terminated successfully.\n",
      "         Current function value: 0.366118\n",
      "         Iterations 6\n"
     ]
    },
    {
     "data": {
      "text/html": [
       "<table class=\"simpletable\">\n",
       "<caption>Logit Regression Results</caption>\n",
       "<tr>\n",
       "  <th>Dep. Variable:</th>     <td>converted</td>    <th>  No. Observations:  </th>   <td>290584</td>   \n",
       "</tr>\n",
       "<tr>\n",
       "  <th>Model:</th>               <td>Logit</td>      <th>  Df Residuals:      </th>   <td>290582</td>   \n",
       "</tr>\n",
       "<tr>\n",
       "  <th>Method:</th>               <td>MLE</td>       <th>  Df Model:          </th>   <td>     1</td>   \n",
       "</tr>\n",
       "<tr>\n",
       "  <th>Date:</th>          <td>Sat, 01 Dec 2018</td> <th>  Pseudo R-squ.:     </th>  <td>8.077e-06</td> \n",
       "</tr>\n",
       "<tr>\n",
       "  <th>Time:</th>              <td>22:50:10</td>     <th>  Log-Likelihood:    </th> <td>-1.0639e+05</td>\n",
       "</tr>\n",
       "<tr>\n",
       "  <th>converged:</th>           <td>True</td>       <th>  LL-Null:           </th> <td>-1.0639e+05</td>\n",
       "</tr>\n",
       "<tr>\n",
       "  <th> </th>                      <td> </td>        <th>  LLR p-value:       </th>   <td>0.1899</td>   \n",
       "</tr>\n",
       "</table>\n",
       "<table class=\"simpletable\">\n",
       "<tr>\n",
       "      <td></td>         <th>coef</th>     <th>std err</th>      <th>z</th>      <th>P>|z|</th>  <th>[0.025</th>    <th>0.975]</th>  \n",
       "</tr>\n",
       "<tr>\n",
       "  <th>intercept</th> <td>   -1.9888</td> <td>    0.008</td> <td> -246.669</td> <td> 0.000</td> <td>   -2.005</td> <td>   -1.973</td>\n",
       "</tr>\n",
       "<tr>\n",
       "  <th>ab_page</th>   <td>   -0.0150</td> <td>    0.011</td> <td>   -1.311</td> <td> 0.190</td> <td>   -0.037</td> <td>    0.007</td>\n",
       "</tr>\n",
       "</table>"
      ],
      "text/plain": [
       "<class 'statsmodels.iolib.summary.Summary'>\n",
       "\"\"\"\n",
       "                           Logit Regression Results                           \n",
       "==============================================================================\n",
       "Dep. Variable:              converted   No. Observations:               290584\n",
       "Model:                          Logit   Df Residuals:                   290582\n",
       "Method:                           MLE   Df Model:                            1\n",
       "Date:                Sat, 01 Dec 2018   Pseudo R-squ.:               8.077e-06\n",
       "Time:                        22:50:10   Log-Likelihood:            -1.0639e+05\n",
       "converged:                       True   LL-Null:                   -1.0639e+05\n",
       "                                        LLR p-value:                    0.1899\n",
       "==============================================================================\n",
       "                 coef    std err          z      P>|z|      [0.025      0.975]\n",
       "------------------------------------------------------------------------------\n",
       "intercept     -1.9888      0.008   -246.669      0.000      -2.005      -1.973\n",
       "ab_page       -0.0150      0.011     -1.311      0.190      -0.037       0.007\n",
       "==============================================================================\n",
       "\"\"\""
      ]
     },
     "execution_count": 38,
     "metadata": {},
     "output_type": "execute_result"
    }
   ],
   "source": [
    "import numpy as np \n",
    "import pandas as pd\n",
    "import statsmodels.api as sm;\n",
    "\n",
    "\n",
    "df2['intercept']=1\n",
    "df2[['new_page','old_page']] = pd.get_dummies(df2['landing_page'])\n",
    "df2['ab_page'] = df2['group'].apply(lambda x: 1 if x == 'treatment' else 0)\n",
    "df2.head()\n",
    "\n",
    "#df2 = df2.drop('old_page',1)\n",
    "\n",
    "df2['intercept']=1\n",
    "logit_mod = sm.Logit(df2['converted'] , df2[['intercept','ab_page']])\n",
    "results = logit_mod.fit()\n",
    "results.summary()"
   ]
  },
  {
   "cell_type": "markdown",
   "metadata": {},
   "source": [
    "d. Provide the summary of your model below, and use it as necessary to answer the following questions."
   ]
  },
  {
   "cell_type": "code",
   "execution_count": 39,
   "metadata": {},
   "outputs": [
    {
     "data": {
      "text/html": [
       "<table class=\"simpletable\">\n",
       "<caption>Logit Regression Results</caption>\n",
       "<tr>\n",
       "  <th>Dep. Variable:</th>     <td>converted</td>    <th>  No. Observations:  </th>   <td>290584</td>   \n",
       "</tr>\n",
       "<tr>\n",
       "  <th>Model:</th>               <td>Logit</td>      <th>  Df Residuals:      </th>   <td>290582</td>   \n",
       "</tr>\n",
       "<tr>\n",
       "  <th>Method:</th>               <td>MLE</td>       <th>  Df Model:          </th>   <td>     1</td>   \n",
       "</tr>\n",
       "<tr>\n",
       "  <th>Date:</th>          <td>Sat, 01 Dec 2018</td> <th>  Pseudo R-squ.:     </th>  <td>8.077e-06</td> \n",
       "</tr>\n",
       "<tr>\n",
       "  <th>Time:</th>              <td>22:51:01</td>     <th>  Log-Likelihood:    </th> <td>-1.0639e+05</td>\n",
       "</tr>\n",
       "<tr>\n",
       "  <th>converged:</th>           <td>True</td>       <th>  LL-Null:           </th> <td>-1.0639e+05</td>\n",
       "</tr>\n",
       "<tr>\n",
       "  <th> </th>                      <td> </td>        <th>  LLR p-value:       </th>   <td>0.1899</td>   \n",
       "</tr>\n",
       "</table>\n",
       "<table class=\"simpletable\">\n",
       "<tr>\n",
       "      <td></td>         <th>coef</th>     <th>std err</th>      <th>z</th>      <th>P>|z|</th>  <th>[0.025</th>    <th>0.975]</th>  \n",
       "</tr>\n",
       "<tr>\n",
       "  <th>intercept</th> <td>   -1.9888</td> <td>    0.008</td> <td> -246.669</td> <td> 0.000</td> <td>   -2.005</td> <td>   -1.973</td>\n",
       "</tr>\n",
       "<tr>\n",
       "  <th>ab_page</th>   <td>   -0.0150</td> <td>    0.011</td> <td>   -1.311</td> <td> 0.190</td> <td>   -0.037</td> <td>    0.007</td>\n",
       "</tr>\n",
       "</table>"
      ],
      "text/plain": [
       "<class 'statsmodels.iolib.summary.Summary'>\n",
       "\"\"\"\n",
       "                           Logit Regression Results                           \n",
       "==============================================================================\n",
       "Dep. Variable:              converted   No. Observations:               290584\n",
       "Model:                          Logit   Df Residuals:                   290582\n",
       "Method:                           MLE   Df Model:                            1\n",
       "Date:                Sat, 01 Dec 2018   Pseudo R-squ.:               8.077e-06\n",
       "Time:                        22:51:01   Log-Likelihood:            -1.0639e+05\n",
       "converged:                       True   LL-Null:                   -1.0639e+05\n",
       "                                        LLR p-value:                    0.1899\n",
       "==============================================================================\n",
       "                 coef    std err          z      P>|z|      [0.025      0.975]\n",
       "------------------------------------------------------------------------------\n",
       "intercept     -1.9888      0.008   -246.669      0.000      -2.005      -1.973\n",
       "ab_page       -0.0150      0.011     -1.311      0.190      -0.037       0.007\n",
       "==============================================================================\n",
       "\"\"\""
      ]
     },
     "execution_count": 39,
     "metadata": {},
     "output_type": "execute_result"
    }
   ],
   "source": [
    "results.summary()"
   ]
  },
  {
   "cell_type": "markdown",
   "metadata": {},
   "source": [
    "e. What is the p-value associated with **ab_page**? Why does it differ from the value you found in **Part II**?<br><br>  **Hint**: What are the null and alternative hypotheses associated with your regression model, and how do they compare to the null and alternative hypotheses in the **Part II**?"
   ]
  },
  {
   "cell_type": "markdown",
   "metadata": {},
   "source": [
    "**0.19 is the p-value. It is very similar to p-value obtained in part II which was 0.189. Alternate hypothesis is that ab_page column is having an effect on the convertion, but similar to part II results it proves we should go with null hypothesis i.e. no impact**"
   ]
  },
  {
   "cell_type": "markdown",
   "metadata": {},
   "source": [
    "f. Now, you are considering other things that might influence whether or not an individual converts.  Discuss why it is a good idea to consider other factors to add into your regression model.  Are there any disadvantages to adding additional terms into your regression model?"
   ]
  },
  {
   "cell_type": "markdown",
   "metadata": {},
   "source": [
    "**Other variables like average time spent on the page, number of clicks made on the page can help explain the difference between convertion better. No I don't think adding these 2 variables will have any disadvantage to the regression model.**"
   ]
  },
  {
   "cell_type": "markdown",
   "metadata": {},
   "source": [
    "g. Now along with testing if the conversion rate changes for different pages, also add an effect based on which country a user lives. You will need to read in the **countries.csv** dataset and merge together your datasets on the approporiate rows.  [Here](https://pandas.pydata.org/pandas-docs/stable/generated/pandas.DataFrame.join.html) are the docs for joining tables. \n",
    "\n",
    "Does it appear that country had an impact on conversion?  Don't forget to create dummy variables for these country columns - **Hint: You will need two columns for the three dummy variables.** Provide the statistical output as well as a written response to answer this question."
   ]
  },
  {
   "cell_type": "code",
   "execution_count": 43,
   "metadata": {},
   "outputs": [
    {
     "data": {
      "text/plain": [
       "array(['UK', 'US', 'CA'], dtype=object)"
      ]
     },
     "execution_count": 43,
     "metadata": {},
     "output_type": "execute_result"
    }
   ],
   "source": [
    "countries_df = pd.read_csv('./countries.csv')\n",
    "df_new = countries_df.set_index('user_id').join(df2.set_index('user_id'), how='inner')\n",
    "df_new.head()\n",
    "df_new['country'].unique()"
   ]
  },
  {
   "cell_type": "code",
   "execution_count": 72,
   "metadata": {},
   "outputs": [
    {
     "data": {
      "text/html": [
       "<div>\n",
       "<style scoped>\n",
       "    .dataframe tbody tr th:only-of-type {\n",
       "        vertical-align: middle;\n",
       "    }\n",
       "\n",
       "    .dataframe tbody tr th {\n",
       "        vertical-align: top;\n",
       "    }\n",
       "\n",
       "    .dataframe thead th {\n",
       "        text-align: right;\n",
       "    }\n",
       "</style>\n",
       "<table border=\"1\" class=\"dataframe\">\n",
       "  <thead>\n",
       "    <tr style=\"text-align: right;\">\n",
       "      <th></th>\n",
       "      <th>country</th>\n",
       "      <th>timestamp</th>\n",
       "      <th>group</th>\n",
       "      <th>landing_page</th>\n",
       "      <th>converted</th>\n",
       "      <th>intercept</th>\n",
       "      <th>new_page</th>\n",
       "      <th>ab_page</th>\n",
       "      <th>CA</th>\n",
       "      <th>UK</th>\n",
       "      <th>ab_page_UK</th>\n",
       "      <th>ab_page_CA</th>\n",
       "      <th>ab_page_US</th>\n",
       "      <th>US</th>\n",
       "    </tr>\n",
       "    <tr>\n",
       "      <th>user_id</th>\n",
       "      <th></th>\n",
       "      <th></th>\n",
       "      <th></th>\n",
       "      <th></th>\n",
       "      <th></th>\n",
       "      <th></th>\n",
       "      <th></th>\n",
       "      <th></th>\n",
       "      <th></th>\n",
       "      <th></th>\n",
       "      <th></th>\n",
       "      <th></th>\n",
       "      <th></th>\n",
       "      <th></th>\n",
       "    </tr>\n",
       "  </thead>\n",
       "  <tbody>\n",
       "    <tr>\n",
       "      <th>834778</th>\n",
       "      <td>UK</td>\n",
       "      <td>08:43.3</td>\n",
       "      <td>control</td>\n",
       "      <td>old_page</td>\n",
       "      <td>0</td>\n",
       "      <td>1</td>\n",
       "      <td>0</td>\n",
       "      <td>0</td>\n",
       "      <td>0</td>\n",
       "      <td>1</td>\n",
       "      <td>0</td>\n",
       "      <td>0</td>\n",
       "      <td>0</td>\n",
       "      <td>0</td>\n",
       "    </tr>\n",
       "    <tr>\n",
       "      <th>928468</th>\n",
       "      <td>US</td>\n",
       "      <td>44:16.4</td>\n",
       "      <td>treatment</td>\n",
       "      <td>new_page</td>\n",
       "      <td>0</td>\n",
       "      <td>1</td>\n",
       "      <td>1</td>\n",
       "      <td>1</td>\n",
       "      <td>0</td>\n",
       "      <td>0</td>\n",
       "      <td>0</td>\n",
       "      <td>0</td>\n",
       "      <td>1</td>\n",
       "      <td>1</td>\n",
       "    </tr>\n",
       "    <tr>\n",
       "      <th>822059</th>\n",
       "      <td>UK</td>\n",
       "      <td>04:14.7</td>\n",
       "      <td>treatment</td>\n",
       "      <td>new_page</td>\n",
       "      <td>1</td>\n",
       "      <td>1</td>\n",
       "      <td>1</td>\n",
       "      <td>1</td>\n",
       "      <td>0</td>\n",
       "      <td>1</td>\n",
       "      <td>1</td>\n",
       "      <td>0</td>\n",
       "      <td>0</td>\n",
       "      <td>0</td>\n",
       "    </tr>\n",
       "    <tr>\n",
       "      <th>711597</th>\n",
       "      <td>UK</td>\n",
       "      <td>14:24.8</td>\n",
       "      <td>control</td>\n",
       "      <td>old_page</td>\n",
       "      <td>0</td>\n",
       "      <td>1</td>\n",
       "      <td>0</td>\n",
       "      <td>0</td>\n",
       "      <td>0</td>\n",
       "      <td>1</td>\n",
       "      <td>0</td>\n",
       "      <td>0</td>\n",
       "      <td>0</td>\n",
       "      <td>0</td>\n",
       "    </tr>\n",
       "    <tr>\n",
       "      <th>710616</th>\n",
       "      <td>UK</td>\n",
       "      <td>14:44.0</td>\n",
       "      <td>treatment</td>\n",
       "      <td>new_page</td>\n",
       "      <td>0</td>\n",
       "      <td>1</td>\n",
       "      <td>1</td>\n",
       "      <td>1</td>\n",
       "      <td>0</td>\n",
       "      <td>1</td>\n",
       "      <td>1</td>\n",
       "      <td>0</td>\n",
       "      <td>0</td>\n",
       "      <td>0</td>\n",
       "    </tr>\n",
       "  </tbody>\n",
       "</table>\n",
       "</div>"
      ],
      "text/plain": [
       "        country timestamp      group landing_page  converted  intercept  \\\n",
       "user_id                                                                   \n",
       "834778       UK   08:43.3    control     old_page          0          1   \n",
       "928468       US   44:16.4  treatment     new_page          0          1   \n",
       "822059       UK   04:14.7  treatment     new_page          1          1   \n",
       "711597       UK   14:24.8    control     old_page          0          1   \n",
       "710616       UK   14:44.0  treatment     new_page          0          1   \n",
       "\n",
       "         new_page  ab_page  CA  UK  ab_page_UK  ab_page_CA  ab_page_US  US  \n",
       "user_id                                                                     \n",
       "834778          0        0   0   1           0           0           0   0  \n",
       "928468          1        1   0   0           0           0           1   1  \n",
       "822059          1        1   0   1           1           0           0   0  \n",
       "711597          0        0   0   1           0           0           0   0  \n",
       "710616          1        1   0   1           1           0           0   0  "
      ]
     },
     "execution_count": 72,
     "metadata": {},
     "output_type": "execute_result"
    }
   ],
   "source": [
    "df_new[['CA','UK','US']] = pd.get_dummies(df_new['country'])\n",
    "df_new.head()\n",
    "\n",
    "#df_new['intercept']=1\n",
    "#df_new = df_new.drop('US',1)\n",
    "\n",
    "#logit_mod = sm.Logit(df_new['converted'] , df_new[['intercept','ab_page','CA','UK']])\n",
    "#results = logit_mod.fit()\n",
    "#results.summary()\n"
   ]
  },
  {
   "cell_type": "markdown",
   "metadata": {},
   "source": [
    "Yes, The user being in the USA will have a statistically significant impact on convertion rate as it has a lower than\n",
    "0.05 value all others ab_page, UK and Canada have high p-values indicating they do not have an impact"
   ]
  },
  {
   "cell_type": "markdown",
   "metadata": {},
   "source": [
    "h. Though you have now looked at the individual factors of country and page on conversion, we would now like to look at an interaction between page and country to see if there significant effects on conversion.  Create the necessary additional columns, and fit the new model.  \n",
    "\n",
    "Provide the summary results, and your conclusions based on the results."
   ]
  },
  {
   "cell_type": "code",
   "execution_count": 74,
   "metadata": {},
   "outputs": [
    {
     "name": "stdout",
     "output_type": "stream",
     "text": [
      "Optimization terminated successfully.\n",
      "         Current function value: 0.366109\n",
      "         Iterations 6\n"
     ]
    },
    {
     "data": {
      "text/html": [
       "<table class=\"simpletable\">\n",
       "<caption>Logit Regression Results</caption>\n",
       "<tr>\n",
       "  <th>Dep. Variable:</th>     <td>converted</td>    <th>  No. Observations:  </th>   <td>290584</td>   \n",
       "</tr>\n",
       "<tr>\n",
       "  <th>Model:</th>               <td>Logit</td>      <th>  Df Residuals:      </th>   <td>290580</td>   \n",
       "</tr>\n",
       "<tr>\n",
       "  <th>Method:</th>               <td>MLE</td>       <th>  Df Model:          </th>   <td>     3</td>   \n",
       "</tr>\n",
       "<tr>\n",
       "  <th>Date:</th>          <td>Sat, 01 Dec 2018</td> <th>  Pseudo R-squ.:     </th>  <td>3.351e-05</td> \n",
       "</tr>\n",
       "<tr>\n",
       "  <th>Time:</th>              <td>23:51:20</td>     <th>  Log-Likelihood:    </th> <td>-1.0639e+05</td>\n",
       "</tr>\n",
       "<tr>\n",
       "  <th>converged:</th>           <td>True</td>       <th>  LL-Null:           </th> <td>-1.0639e+05</td>\n",
       "</tr>\n",
       "<tr>\n",
       "  <th> </th>                      <td> </td>        <th>  LLR p-value:       </th>   <td>0.06785</td>  \n",
       "</tr>\n",
       "</table>\n",
       "<table class=\"simpletable\">\n",
       "<tr>\n",
       "       <td></td>         <th>coef</th>     <th>std err</th>      <th>z</th>      <th>P>|z|</th>  <th>[0.025</th>    <th>0.975]</th>  \n",
       "</tr>\n",
       "<tr>\n",
       "  <th>intercept</th>  <td>   -1.9888</td> <td>    0.008</td> <td> -246.669</td> <td> 0.000</td> <td>   -2.005</td> <td>   -1.973</td>\n",
       "</tr>\n",
       "<tr>\n",
       "  <th>ab_page</th>    <td>   -0.0183</td> <td>    0.013</td> <td>   -1.449</td> <td> 0.147</td> <td>   -0.043</td> <td>    0.006</td>\n",
       "</tr>\n",
       "<tr>\n",
       "  <th>ab_page_UK</th> <td>    0.0257</td> <td>    0.019</td> <td>    1.363</td> <td> 0.173</td> <td>   -0.011</td> <td>    0.063</td>\n",
       "</tr>\n",
       "<tr>\n",
       "  <th>ab_page_CA</th> <td>   -0.0644</td> <td>    0.038</td> <td>   -1.679</td> <td> 0.093</td> <td>   -0.140</td> <td>    0.011</td>\n",
       "</tr>\n",
       "</table>"
      ],
      "text/plain": [
       "<class 'statsmodels.iolib.summary.Summary'>\n",
       "\"\"\"\n",
       "                           Logit Regression Results                           \n",
       "==============================================================================\n",
       "Dep. Variable:              converted   No. Observations:               290584\n",
       "Model:                          Logit   Df Residuals:                   290580\n",
       "Method:                           MLE   Df Model:                            3\n",
       "Date:                Sat, 01 Dec 2018   Pseudo R-squ.:               3.351e-05\n",
       "Time:                        23:51:20   Log-Likelihood:            -1.0639e+05\n",
       "converged:                       True   LL-Null:                   -1.0639e+05\n",
       "                                        LLR p-value:                   0.06785\n",
       "==============================================================================\n",
       "                 coef    std err          z      P>|z|      [0.025      0.975]\n",
       "------------------------------------------------------------------------------\n",
       "intercept     -1.9888      0.008   -246.669      0.000      -2.005      -1.973\n",
       "ab_page       -0.0183      0.013     -1.449      0.147      -0.043       0.006\n",
       "ab_page_UK     0.0257      0.019      1.363      0.173      -0.011       0.063\n",
       "ab_page_CA    -0.0644      0.038     -1.679      0.093      -0.140       0.011\n",
       "==============================================================================\n",
       "\"\"\""
      ]
     },
     "execution_count": 74,
     "metadata": {},
     "output_type": "execute_result"
    }
   ],
   "source": [
    "df_new['ab_page_US'] = df_new['ab_page']*df_new['US']\n",
    "df_new['ab_page_UK'] = df_new['ab_page']*df_new['UK']\n",
    "df_new['ab_page_CA'] = df_new['ab_page']*df_new['CA']\n",
    "df_new.head()\n",
    "\n",
    "\n",
    "df_new['intercept']=1\n",
    "logit_mod = sm.Logit(df_new['converted'] , df_new[['intercept','ab_page','ab_page_UK','ab_page_CA']])\n",
    "results = logit_mod.fit()\n",
    "results.summary()\n",
    "\n"
   ]
  },
  {
   "cell_type": "markdown",
   "metadata": {},
   "source": [
    "Yes, The user being in the USA will have a statistically significant difference in convertion rate in old and new \n",
    "pages as it has a lower than 0.05 value all others ab_page_UK and ab_page_Canada have high p-values \n",
    "indicating they do not have an impact\n",
    "This ab_page_US variable is same as US variable so results are same\n"
   ]
  },
  {
   "cell_type": "markdown",
   "metadata": {},
   "source": [
    "<a id='conclusions'></a>\n",
    "## Conclusions\n",
    "\n",
    "Congratulations on completing the project! \n",
    "\n",
    "### Gather Submission Materials\n",
    "\n",
    "Once you are satisfied with the status of your Notebook, you should save it in a format that will make it easy for others to read. You can use the __File -> Download as -> HTML (.html)__ menu to save your notebook as an .html file. If you are working locally and get an error about \"No module name\", then open a terminal and try installing the missing module using `pip install <module_name>` (don't include the \"<\" or \">\" or any words following a period in the module name).\n",
    "\n",
    "You will submit both your original Notebook and an HTML or PDF copy of the Notebook for review. There is no need for you to include any data files with your submission. If you made reference to other websites, books, and other resources to help you in solving tasks in the project, make sure that you document them. It is recommended that you either add a \"Resources\" section in a Markdown cell at the end of the Notebook report, or you can include a `readme.txt` file documenting your sources.\n",
    "\n",
    "### Submit the Project\n",
    "\n",
    "When you're ready, click on the \"Submit Project\" button to go to the project submission page. You can submit your files as a .zip archive or you can link to a GitHub repository containing your project files. If you go with GitHub, note that your submission will be a snapshot of the linked repository at time of submission. It is recommended that you keep each project in a separate repository to avoid any potential confusion: if a reviewer gets multiple folders representing multiple projects, there might be confusion regarding what project is to be evaluated.\n",
    "\n",
    "It can take us up to a week to grade the project, but in most cases it is much faster. You will get an email once your submission has been reviewed. If you are having any problems submitting your project or wish to check on the status of your submission, please email us at dataanalyst-project@udacity.com. In the meantime, you should feel free to continue on with your learning journey by beginning the next module in the program."
   ]
  },
  {
   "cell_type": "code",
   "execution_count": null,
   "metadata": {
    "collapsed": true
   },
   "outputs": [],
   "source": []
  }
 ],
 "metadata": {
  "kernelspec": {
   "display_name": "Python 3",
   "language": "python",
   "name": "python3"
  },
  "language_info": {
   "codemirror_mode": {
    "name": "ipython",
    "version": 3
   },
   "file_extension": ".py",
   "mimetype": "text/x-python",
   "name": "python",
   "nbconvert_exporter": "python",
   "pygments_lexer": "ipython3",
   "version": "3.7.3"
  }
 },
 "nbformat": 4,
 "nbformat_minor": 2
}
